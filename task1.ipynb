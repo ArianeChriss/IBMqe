{
 "cells": [
  {
   "cell_type": "code",
   "execution_count": 1,
   "metadata": {},
   "outputs": [],
   "source": [
    "# Useful additional packages\n",
    "import qiskit\n",
    "import matplotlib\n",
    "import matplotlib.pyplot as plt\n",
    "%matplotlib inline\n",
    "import numpy as np\n",
    "from math import pi\n",
    "\n",
    "from qiskit import QuantumCircuit, ClassicalRegister, QuantumRegister, execute\n",
    "from qiskit.tools.visualization import circuit_drawer\n",
    "from qiskit.quantum_info import state_fidelity\n",
    "from qiskit import BasicAer\n",
    "\n",
    "backend = BasicAer.get_backend('unitary_simulator')\n",
    "\n",
    "q = QuantumRegister(1)"
   ]
  },
  {
   "cell_type": "code",
   "execution_count": 2,
   "metadata": {},
   "outputs": [
    {
     "data": {
      "text/plain": [
       "array([[ 0.707+0.j   ,  0.   -0.707j],\n",
       "       [ 0.   +0.707j, -0.707+0.j   ]])"
      ]
     },
     "execution_count": 2,
     "metadata": {},
     "output_type": "execute_result"
    }
   ],
   "source": [
    "qc = QuantumCircuit(q)\n",
    "qc.u3(pi/2,pi/2,pi/2,q)  # initialize u gate, allows superpositions\n",
    "qc.draw(output='mpl')\n",
    "\n",
    "job = execute(qc, backend)\n",
    "job.result().get_unitary(qc, decimals=3)"
   ]
  },
  {
   "cell_type": "code",
   "execution_count": 3,
   "metadata": {},
   "outputs": [
    {
     "data": {
      "text/plain": [
       "array([[1.+0.j, 0.+0.j],\n",
       "       [0.+0.j, 1.+0.j]])"
      ]
     },
     "execution_count": 3,
     "metadata": {},
     "output_type": "execute_result"
    }
   ],
   "source": [
    "qc = QuantumCircuit(q)\n",
    "qc.u0(pi/2,q)\n",
    "qc.draw(output='mpl')\n",
    "\n",
    "job = execute(qc, backend)\n",
    "job.result().get_unitary(qc, decimals=3)\n",
    "\n",
    "qc = QuantumCircuit(q)\n",
    "qc.iden(q)   # initialize identity gate\n",
    "qc.draw(output='mpl')\n",
    "\n",
    "job = execute(qc, backend)   # need to execute job before outputting \n",
    "job.result().get_unitary(qc, decimals=3)    # parts of array in numpy.ndarray"
   ]
  },
  {
   "cell_type": "code",
   "execution_count": 4,
   "metadata": {},
   "outputs": [
    {
     "data": {
      "text/plain": [
       "array([[ 1.+0.j,  0.+0.j],\n",
       "       [ 0.+0.j, -1.+0.j]])"
      ]
     },
     "execution_count": 4,
     "metadata": {},
     "output_type": "execute_result"
    }
   ],
   "source": [
    "qc = QuantumCircuit(q)\n",
    "qc.x(q)    # call x-gate on circuit (not, bit flip)\n",
    "qc.draw(output='mpl')\n",
    "\n",
    "job = execute(qc, backend)\n",
    "job.result().get_unitary(qc, decimals=3)\n",
    "\n",
    "qc = QuantumCircuit(q)\n",
    "qc.y(q)   # call y-gate on circuit (bit- and phase-flip)\n",
    "qc.draw(output='mpl')\n",
    "\n",
    "job = execute(qc, backend)\n",
    "job.result().get_unitary(qc, decimals=3)\n",
    "\n",
    "qc = QuantumCircuit(q)\n",
    "qc.z(q)   # call z-gate on circuit (phase flip)\n",
    "qc.draw(output='mpl')\n",
    "\n",
    "job = execute(qc, backend)\n",
    "job.result().get_unitary(qc, decimals=3)\n",
    "\n"
   ]
  },
  {
   "cell_type": "code",
   "execution_count": 5,
   "metadata": {},
   "outputs": [
    {
     "data": {
      "text/plain": [
       "array([[1.+0.j, 0.+0.j],\n",
       "       [0.+0.j, 0.+1.j]])"
      ]
     },
     "execution_count": 5,
     "metadata": {},
     "output_type": "execute_result"
    }
   ],
   "source": [
    "qc = QuantumCircuit(q)\n",
    "qc.h(q)    # calls Hadamard gate on circuit\n",
    "qc.draw(output='mpl')\n",
    "\n",
    "job = execute(qc, backend)\n",
    "job.result().get_unitary(qc, decimals=3)\n",
    "\n",
    "qc = QuantumCircuit(q)\n",
    "qc.s(q)    # calls S gate on circuit\n",
    "qc.draw(output='mpl')\n",
    "\n",
    "job = execute(qc, backend)\n",
    "job.result().get_unitary(qc, decimals=3)"
   ]
  },
  {
   "cell_type": "code",
   "execution_count": 6,
   "metadata": {},
   "outputs": [
    {
     "data": {
      "text/plain": [
       "array([[ 0.707+0.j, -0.707+0.j],\n",
       "       [ 0.707+0.j,  0.707+0.j]])"
      ]
     },
     "execution_count": 6,
     "metadata": {},
     "output_type": "execute_result"
    }
   ],
   "source": [
    "qc = QuantumCircuit(q)\n",
    "qc.sdg(q)   # calls S+ gate on circuit\n",
    "qc.draw(output='mpl')\n",
    "\n",
    "job = execute(qc, backend)\n",
    "job.result().get_unitary(qc, decimals=3)\n",
    "\n",
    "qc = QuantumCircuit(q)\n",
    "qc.t(q)    # calls a T gate on circuit\n",
    "qc.draw(output='mpl')\n",
    "\n",
    "job = execute(qc, backend)\n",
    "job.result().get_unitary(qc, decimals=3)\n",
    "\n",
    "qc = QuantumCircuit(q)\n",
    "qc.tdg(q)   # calls a T+ gate on circuit\n",
    "qc.draw(output='mpl')\n",
    "\n",
    "job = execute(qc, backend)\n",
    "job.result().get_unitary(qc, decimals=3)\n",
    "\n",
    "qc = QuantumCircuit(q)\n",
    "qc.rx(pi/2,q)   # calls x-rotation gate on circuit\n",
    "qc.draw(output='mpl')\n",
    "\n",
    "job = execute(qc, backend)\n",
    "job.result().get_unitary(qc, decimals=3)\n",
    "\n",
    "qc = QuantumCircuit(q)\n",
    "qc.ry(pi/2,q)   # calls y-rotation gate on circuit\n",
    "qc.draw(output='mpl')\n",
    "\n",
    "job = execute(qc, backend)\n",
    "job.result().get_unitary(qc, decimals=3)"
   ]
  },
  {
   "cell_type": "code",
   "execution_count": null,
   "metadata": {},
   "outputs": [],
   "source": []
  }
 ],
 "metadata": {
  "kernelspec": {
   "display_name": "Python 3",
   "language": "python",
   "name": "python3"
  },
  "language_info": {
   "codemirror_mode": {
    "name": "ipython",
    "version": 3
   },
   "file_extension": ".py",
   "mimetype": "text/x-python",
   "name": "python",
   "nbconvert_exporter": "python",
   "pygments_lexer": "ipython3",
   "version": "3.7.3"
  }
 },
 "nbformat": 4,
 "nbformat_minor": 2
}
