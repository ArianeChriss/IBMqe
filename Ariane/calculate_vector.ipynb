{
 "cells": [
  {
   "cell_type": "code",
   "execution_count": 29,
   "metadata": {},
   "outputs": [],
   "source": [
    "# Useful additional packages\n",
    "import qiskit\n",
    "import matplotlib\n",
    "import matplotlib.pyplot as plt\n",
    "%matplotlib inline\n",
    "import numpy as np\n",
    "from math import pi\n",
    "\n",
    "from qiskit import QuantumCircuit, ClassicalRegister, QuantumRegister, execute\n",
    "from qiskit.tools.visualization import circuit_drawer\n",
    "from qiskit.tools.visualization import plot_histogram\n",
    "from qiskit.quantum_info import state_fidelity\n",
    "from qiskit import BasicAer\n",
    "\n",
    "from qiskit.visualization import plot_state_city, plot_bloch_multivector\n",
    "from qiskit.visualization import plot_state_paulivec, plot_state_hinton\n",
    "from qiskit.visualization import plot_state_qsphere\n",
    "from qiskit.visualization import plot_bloch_vector\n",
    "\n",
    "backend = BasicAer.get_backend('statevector_simulator')\n",
    "#backendii = BasicAer.get_backend('qasm_simulator')\n",
    "q = QuantumRegister(1)\n",
    "#c = ClassicalRegister(1)"
   ]
  },
  {
   "cell_type": "code",
   "execution_count": 30,
   "metadata": {},
   "outputs": [
    {
     "data": {
      "image/png": "[encoded data removed]",
      "text/plain": [
       "<Figure size 240.8x78.26 with 1 Axes>"
      ]
     },
     "execution_count": 30,
     "metadata": {},
     "output_type": "execute_result"
    }
   ],
   "source": [
    "qc = QuantumCircuit(q)\n",
    "qc.x(q)  # initialize u gate, allows superpositions\n",
    "qc.draw(output='mpl')"
   ]
  },
  {
   "cell_type": "code",
   "execution_count": 31,
   "metadata": {},
   "outputs": [
    {
     "name": "stdout",
     "output_type": "stream",
     "text": [
      "[0.+0.j 1.+0.j]\n"
     ]
    }
   ],
   "source": [
    "job = execute(qc, backend)\n",
    "#jobii = execute(qc, backendii)\n",
    "result = execute(qc, backend).result()\n",
    "#resultii = execute(qc, backendii).result()\n",
    "print(result.get_statevector(qc))\n",
    "#print(plot_bloch_vector(qc))"
   ]
  },
  {
   "cell_type": "code",
   "execution_count": 64,
   "metadata": {},
   "outputs": [
    {
     "name": "stdout",
     "output_type": "stream",
     "text": [
      "0j\n",
      "(1.0000000000000002-2.571758278209446e-15j)\n"
     ]
    }
   ],
   "source": [
    "qc.h(q)\n",
    "qc.draw(output='mpl')\n",
    "\n",
    "job = execute(qc, backend)\n",
    "result = execute(qc, backend).result()\n",
    "vector = result.get_statevector(qc)\n",
    "\n",
    "for i in vector:\n",
    "    print(i)"
   ]
  },
  {
   "cell_type": "code",
   "execution_count": 65,
   "metadata": {},
   "outputs": [
    {
     "name": "stdout",
     "output_type": "stream",
     "text": [
      "[500, 0]\n"
     ]
    }
   ],
   "source": [
    "alpha = 0\n",
    "beta = 0\n",
    "\n",
    "for i in range(500):\n",
    "    job = execute(qc, backend)\n",
    "    result = execute(qc, backend).result()\n",
    "    vector = result.get_statevector(qc)\n",
    "    if vector[0] == 0j:\n",
    "        alpha += 1\n",
    "    else:\n",
    "        beta += 1\n",
    "\n",
    "print([alpha, beta])"
   ]
  },
  {
   "cell_type": "code",
   "execution_count": null,
   "metadata": {},
   "outputs": [],
   "source": []
  }
 ],
 "metadata": {
  "kernelspec": {
   "display_name": "Python 3",
   "language": "python",
   "name": "python3"
  },
  "language_info": {
   "codemirror_mode": {
    "name": "ipython",
    "version": 3
   },
   "file_extension": ".py",
   "mimetype": "text/x-python",
   "name": "python",
   "nbconvert_exporter": "python",
   "pygments_lexer": "ipython3",
   "version": "3.7.3"
  }
 },
 "nbformat": 4,
 "nbformat_minor": 2
}
