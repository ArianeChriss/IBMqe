{
 "cells": [
  {
   "cell_type": "markdown",
   "metadata": {},
   "source": [
    "$\\newcommand{\\ket}[1]{\\left|{#1}\\right\\rangle}\n",
    "\\newcommand{\\bra}[1]{\\left\\langle{#1}\\right|}$\n",
    "<body>\n",
    "    <div>\n",
    "        <tr><h1>\n",
    "        <b><font face=\"Verdana\">Exercise 6.7 ($T_1$):</font></b>\n",
    "        </h1></tr>\n",
    "        <p>\n",
    "            Next, Charlie prepares the spins in a different state, called $\\ket{T_1}$, where\n",
    "        </p>\n",
    "        <p>\n",
    "            <center> $\\ket{T_1}$ = ($\\frac{1}{\\sqrt{2}}$)( $\\ket{ud}$ + $\\ket{du}$)</center>\n",
    "        </p>\n",
    "        <p>\n",
    "            In these examples, T stands for triplet. These triplet states are completely different from the states in the coin and die examples.<br>\n",
    "            What are the expectation values of the operators $\\sigma_z$$\\tau_z$, $\\sigma_x$$\\tau_x$, and $\\sigma_y$$\\tau_y$? What a difference a sign can make!\n",
    "        </p>\n",
    "    </div>\n",
    "</body>"
   ]
  },
  {
   "cell_type": "code",
   "execution_count": null,
   "metadata": {},
   "outputs": [],
   "source": [
    "import numpy as np\n",
    "from copy import *\n",
    "from qiskit import *\n",
    "from qiskit.visualization import plot_histogram, iplot_state_city\n",
    "from qiskit.quantum_info import Pauli, state_fidelity, basis_state, process_fidelity\n",
    "from math import *"
   ]
  },
  {
   "cell_type": "code",
   "execution_count": null,
   "metadata": {},
   "outputs": [],
   "source": [
    "## this function is used as a simple way to calculate the state vector of a circuit qc\n",
    "def stater(qc):\n",
    "    backend_sim = BasicAer.get_backend('statevector_simulator')\n",
    "    result = execute(qc, backend_sim).result()\n",
    "    state = result.get_statevector(qc)\n",
    "    return state"
   ]
  },
  {
   "cell_type": "markdown",
   "metadata": {},
   "source": [
    "First we must create a triplet state using a circuit of two qubits."
   ]
  },
  {
   "cell_type": "code",
   "execution_count": null,
   "metadata": {},
   "outputs": [],
   "source": [
    "a = QuantumRegister(1, 'a')\n",
    "b = QuantumRegister(1, 'b')\n",
    "qc = QuantumCircuit(a,b)"
   ]
  },
  {
   "cell_type": "markdown",
   "metadata": {},
   "source": [
    "The following code lists out the different gates used in the circuit to connect them in a triplet state.\n",
    "\n",
    "The simulator represents the four values of a given state vector and so we can see how the matrix of values would change after each new gate is added.\n",
    "\n",
    "Possibilities represents the classical bits that could result after each new gate is added."
   ]
  },
  {
   "cell_type": "code",
   "execution_count": null,
   "metadata": {
    "scrolled": true
   },
   "outputs": [],
   "source": [
    "print('Original:')\n",
    "stater(qc)\n",
    "# insert a x gate on qubit a\n",
    "qc.x(a)\n",
    "print(1)\n",
    "print(stater(qc))\n",
    "## simulator: 0100\n",
    "# insert a h gate on qubit b\n",
    "qc.h(b)\n",
    "print(2)\n",
    "print(stater(qc))\n",
    "## simulator: 0(0.7)0(0.7)\n",
    "## at this point qubit a is guaranteed to be 1\n",
    "## and qubit b can be either 0 or 1\n",
    "## possibilities: 11,10\n",
    "# insert a cx gate from qubit b to a\n",
    "qc.cx(b,a)\n",
    "print('State Vector:')\n",
    "## simulator: 0(0.7)(0.7)0\n",
    "## at this point qubit a can be either 0 or 1\n",
    "## and qubit b can be either 1 or 0 depending on qubit a\n",
    "## possibilities: 01,10\n",
    "print(stater(qc))\n",
    "tripState = stater(qc)"
   ]
  },
  {
   "cell_type": "markdown",
   "metadata": {},
   "source": [
    "<p>In summary, this circuit is made up of two qubits. An x gate is used on the first qubit, qubit a, and an h gate is used on the second qubit, qubit b.<br>\n",
    "Then, a cx gate is used to connect qubit b to qubit a to give us our final state.</p>"
   ]
  },
  {
   "cell_type": "code",
   "execution_count": null,
   "metadata": {},
   "outputs": [],
   "source": [
    "iplot_state_city(tripState)"
   ]
  },
  {
   "cell_type": "markdown",
   "metadata": {},
   "source": [
    "This diagram represents the density matrix of the state vector. You can see here that only the combinations of $\\ket{01}$ and $\\ket{10}$ have block representations rather than flat squares. However, unlike the singlet state all blocks are found on the positive side of the graph."
   ]
  },
  {
   "cell_type": "code",
   "execution_count": null,
   "metadata": {},
   "outputs": [],
   "source": [
    "qc.draw(output='mpl')\n",
    "# this is a maximally entangled system in a triplet state (T1)"
   ]
  },
  {
   "cell_type": "code",
   "execution_count": null,
   "metadata": {},
   "outputs": [],
   "source": [
    "backend = Aer.get_backend('unitary_simulator')\n",
    "job = execute(qc, backend)\n",
    "result = job.result()\n",
    "print(result.get_unitary(qc, decimals=3))\n",
    "c0 = ClassicalRegister(1, 'c0')\n",
    "c1 = ClassicalRegister(1, 'c1')\n",
    "meas = QuantumCircuit(a,b,c0,c1)\n",
    "meas.draw(output='mpl')\n",
    "meas.measure(a,c0)\n",
    "meas.measure(b,c1)\n",
    "circ = qc+meas\n",
    "circ.draw(output='mpl')"
   ]
  },
  {
   "cell_type": "code",
   "execution_count": null,
   "metadata": {},
   "outputs": [],
   "source": [
    "backend_sim = Aer.get_backend('qasm_simulator')\n",
    "job_sim = execute(circ, backend_sim, shots=1024)\n",
    "result_sim = job_sim.result()\n",
    "counts = result_sim.get_counts(circ)\n",
    "print(counts)\n",
    "# there are always only two solutions: 10 and 01"
   ]
  },
  {
   "cell_type": "markdown",
   "metadata": {},
   "source": [
    "As shown by the simulator and histogram, only $\\ket{01}$ and $\\ket{10}$ are possibilities for this circuit. This partially verifies that the circuit is in a triplet state."
   ]
  },
  {
   "cell_type": "code",
   "execution_count": null,
   "metadata": {},
   "outputs": [],
   "source": [
    "plot_histogram(counts)"
   ]
  },
  {
   "cell_type": "markdown",
   "metadata": {},
   "source": [
    "<p>To find the expectation value of the operators, you can do it by hand or using qiskit:</p>\n",
    "<p>Find the expectation value of $\\sigma_z$$\\tau_z$.</p>\n",
    "\n",
    "<p><center>$\\sigma_z$$\\tau_z$$\\ket{T_1}$ = $\\sigma_z$$\\tau_z$($\\frac{1}{\\sqrt{2}}$)( $\\ket{ud}$ + $\\ket{du}$)<br>\n",
    "           = $\\tau_z$($\\frac{1}{\\sqrt{2}}$)( $\\ket{ud}$ - $\\ket{du}$)<br>\n",
    "           = ($\\frac{1}{\\sqrt{2}}$)( -$\\ket{ud}$ - $\\ket{du}$)\n",
    "</center> </p>          \n",
    "If we square the equation and multiply the complex conjugate by the original equation, it becomes:\n",
    "<p><center>= $\\frac{1}{2}$( $\\ket{ud}$ + $\\ket{du}$)( -$\\ket{ud}$ - $\\ket{du}$)<br>\n",
    "           = $\\frac{1}{2}$(-1+(-1))<br>\n",
    "           = -1</center></p>\n",
    "So the expectation value of $\\sigma_z$$\\tau_z$ is -1."
   ]
  },
  {
   "cell_type": "markdown",
   "metadata": {},
   "source": [
    "Qiskit can also model the expectation values using matrices.\n",
    "\n",
    "First, three new circuits were created in order to change each component x,y, and z. Each circuit is made up of the original circuit qc plus either an x,y, or z gate for each respective component.\n",
    "\n",
    "The state vector for this circuit is determined at the end of the function as a factor in the matrix multiplication. It is not stored as a value, but represents the complex conjugate of the state vector of our original state vector called original.\n",
    "\n",
    "The expectation value can be calculated by taking the transpose of original and multiplying it by the state vector of x(and y,z)_circuit.\n",
    "\n",
    "This will give you an expectation value of -1 for z as well as a value of 1 for the other components."
   ]
  },
  {
   "cell_type": "code",
   "execution_count": null,
   "metadata": {},
   "outputs": [],
   "source": [
    "def expectationValue(qc):\n",
    "    original = stater(qc)\n",
    "    \n",
    "    a = QuantumRegister(2)\n",
    "    b = ClassicalRegister(2)\n",
    "    \n",
    "    # create a duplicate circuit flipped around the x axis (conjugate of the original)    \n",
    "    x_circuit = deepcopy(qc)\n",
    "    x_circuit.x(0)\n",
    "    x_circuit.x(1)\n",
    "\n",
    "    # create a duplicate circuit flipped around the y axis (conjugate of the original)\n",
    "    y_circuit = deepcopy(qc)\n",
    "    y_circuit.y(0)\n",
    "    y_circuit.y(1) \n",
    "    \n",
    "    # create a duplicate circuit flipped around the z axis (conjugate of the original)\n",
    "    z_circuit = deepcopy(qc)\n",
    "    z_circuit.z(0)\n",
    "    z_circuit.z(1)\n",
    "    \n",
    "    \n",
    "    print('Expectation Value X:', (np.transpose(original)@stater(x_circuit)).round(1))\n",
    "    print('Expectation Value Y:', (np.transpose(original)@stater(y_circuit)).round(1))\n",
    "    print('Expectation Value Z:', (np.transpose(original)@stater(z_circuit)).round(1))"
   ]
  },
  {
   "cell_type": "code",
   "execution_count": null,
   "metadata": {},
   "outputs": [],
   "source": [
    "expectationValue(qc)"
   ]
  }
 ],
 "metadata": {
  "kernelspec": {
   "display_name": "Python 3",
   "language": "python",
   "name": "python3"
  },
  "language_info": {
   "codemirror_mode": {
    "name": "ipython",
    "version": 3
   },
   "file_extension": ".py",
   "mimetype": "text/x-python",
   "name": "python",
   "nbconvert_exporter": "python",
   "pygments_lexer": "ipython3",
   "version": "3.7.3"
  }
 },
 "nbformat": 4,
 "nbformat_minor": 2
}
