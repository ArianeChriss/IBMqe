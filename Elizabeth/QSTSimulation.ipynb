{
 "cells": [
  {
   "cell_type": "markdown",
   "metadata": {},
   "source": [
    "<body>\n",
    "    <div>\n",
    "        <tr><h1>\n",
    "            <b><font face=\"Verdana\">Quantum State Tomography</font></b>\n",
    "        </h1></tr>\n",
    "        <p>\n",
    "            We can find the density matrix of a state using QST. We must create and measure the state of a circuit then compare it to a noisy model.\n",
    "        </p>\n",
    "    </div>\n",
    "</body>"
   ]
  },
  {
   "cell_type": "code",
   "execution_count": 1,
   "metadata": {},
   "outputs": [],
   "source": [
    "import numpy as np\n",
    "import time\n",
    "from copy import deepcopy\n",
    "\n",
    "import qiskit \n",
    "from qiskit import QuantumRegister, QuantumCircuit, ClassicalRegister, Aer\n",
    "from qiskit.quantum_info import state_fidelity\n",
    "from qiskit.providers.aer import noise\n",
    "from qiskit.visualization import iplot_state_city\n",
    "\n",
    "from qiskit.ignis.verification.tomography import state_tomography_circuits, StateTomographyFitter\n",
    "import qiskit.ignis.mitigation.measurement as mc"
   ]
  },
  {
   "cell_type": "markdown",
   "metadata": {},
   "source": [
    "First, we must create an ideal circuit qc that will form our basis state. Any gates can be used on qc but it must be efficient. We will store the state of the circuit as state."
   ]
  },
  {
   "cell_type": "code",
   "execution_count": 2,
   "metadata": {},
   "outputs": [
    {
     "name": "stdout",
     "output_type": "stream",
     "text": [
      "[0.70710678+0.j 0.        +0.j 0.        +0.j 0.70710678+0.j]\n"
     ]
    },
    {
     "data": {
      "image/png": "[encoded data removed]",
      "text/plain": [
       "<Figure size 301x138.46 with 1 Axes>"
      ]
     },
     "execution_count": 2,
     "metadata": {},
     "output_type": "execute_result"
    }
   ],
   "source": [
    "# create circuit 1: basis state\n",
    "q2 = QuantumRegister(2)\n",
    "qc = QuantumCircuit(q2)\n",
    "qc.h(q2[0])\n",
    "qc.cx(q2[0], q2[1])\n",
    "\n",
    "job = qiskit.execute(qc, Aer.get_backend('statevector_simulator'))\n",
    "state = job.result().get_statevector(qc)\n",
    "print(state)\n",
    "qc.draw(output='mpl')"
   ]
  },
  {
   "cell_type": "markdown",
   "metadata": {},
   "source": [
    "Now we will create a model similar to qc that uses more qubits. This is the same circuit with an h gate and a cx gate, but there is an extra qubit between the two."
   ]
  },
  {
   "cell_type": "code",
   "execution_count": 3,
   "metadata": {},
   "outputs": [
    {
     "data": {
      "image/png": "[encoded data removed]",
      "text/plain": [
       "<Figure size 301x198.66 with 1 Axes>"
      ]
     },
     "execution_count": 3,
     "metadata": {},
     "output_type": "execute_result"
    }
   ],
   "source": [
    "# create the actual circuit to be tested\n",
    "q2 = QuantumRegister(3)\n",
    "qc = QuantumCircuit(q2)\n",
    "qc.h(q2[2])\n",
    "qc.cx(q2[2], q2[0])\n",
    "qc.draw(output='mpl')"
   ]
  },
  {
   "cell_type": "markdown",
   "metadata": {},
   "source": [
    "Now we will generate the state tomography circuits running through the used qubits and store the result as tomo_qc. We can also calculate the time it takes to run the circuit."
   ]
  },
  {
   "cell_type": "code",
   "execution_count": 4,
   "metadata": {},
   "outputs": [
    {
     "name": "stdout",
     "output_type": "stream",
     "text": [
      "Time taken: 0.28732824325561523\n"
     ]
    }
   ],
   "source": [
    "t = time.time()\n",
    "# generate the state tomography circuits\n",
    "qst_qc = state_tomography_circuits(qc, [q2[0],q2[2]])\n",
    "job = qiskit.execute(qst_qc, Aer.get_backend('qasm_simulator'), shots=5000)\n",
    "print('Time taken:', time.time() - t)\n",
    "\n",
    "tomo_qc = StateTomographyFitter(job.result(), qst_qc)"
   ]
  },
  {
   "cell_type": "markdown",
   "metadata": {},
   "source": [
    "<p>In order to see if our tomography result is a good fit, we can use the fit fidelity function. A fit is given from 0 to 1 where 1 fits the best and 0 fits the worst. See FitFidelityTests.ipynb to see how fit fidelity works.</p>\n",
    "<p>As can be seen, the fit is very close to 1 because the two circuits we created were identical with slight room for error.</p>"
   ]
  },
  {
   "cell_type": "code",
   "execution_count": 5,
   "metadata": {},
   "outputs": [
    {
     "name": "stdout",
     "output_type": "stream",
     "text": [
      "Fit Fidelity = 0.997728529107494\n"
     ]
    }
   ],
   "source": [
    "# perform the tomography fit\n",
    "rho_qc = tomo_qc.fit()\n",
    "fid_qc = state_fidelity(state, rho_qc)\n",
    "print('Fit Fidelity =', fid_qc)"
   ]
  },
  {
   "cell_type": "markdown",
   "metadata": {},
   "source": [
    "By executing the circuit under the unitary simulator, we can then see the resulting density matrix of our state."
   ]
  },
  {
   "cell_type": "code",
   "execution_count": 6,
   "metadata": {},
   "outputs": [
    {
     "name": "stdout",
     "output_type": "stream",
     "text": [
      "[[ 0.707+0.j  0.   +0.j  0.   +0.j  0.   +0.j  0.707+0.j  0.   +0.j\n",
      "   0.   +0.j  0.   +0.j]\n",
      " [ 0.   +0.j  0.707+0.j  0.   +0.j  0.   +0.j  0.   +0.j  0.707+0.j\n",
      "   0.   +0.j  0.   +0.j]\n",
      " [ 0.   +0.j  0.   +0.j  0.707+0.j  0.   +0.j  0.   +0.j  0.   +0.j\n",
      "   0.707+0.j  0.   +0.j]\n",
      " [ 0.   +0.j  0.   +0.j  0.   +0.j  0.707+0.j  0.   +0.j  0.   +0.j\n",
      "   0.   +0.j  0.707+0.j]\n",
      " [ 0.   +0.j  0.707+0.j  0.   +0.j  0.   +0.j  0.   +0.j -0.707+0.j\n",
      "   0.   +0.j  0.   +0.j]\n",
      " [ 0.707+0.j  0.   +0.j  0.   +0.j  0.   +0.j -0.707+0.j  0.   +0.j\n",
      "   0.   +0.j  0.   +0.j]\n",
      " [ 0.   +0.j  0.   +0.j  0.   +0.j  0.707+0.j  0.   +0.j  0.   +0.j\n",
      "   0.   +0.j -0.707+0.j]\n",
      " [ 0.   +0.j  0.   +0.j  0.707+0.j  0.   +0.j  0.   +0.j  0.   +0.j\n",
      "  -0.707+0.j  0.   +0.j]]\n"
     ]
    }
   ],
   "source": [
    "backend = Aer.get_backend('unitary_simulator')\n",
    "job = qiskit.execute(qc, backend)\n",
    "result = job.result()\n",
    "\n",
    "# show the results\n",
    "print(result.get_unitary(qc, decimals=3))"
   ]
  },
  {
   "cell_type": "markdown",
   "metadata": {},
   "source": [
    "<p>We can also try adding noise to see how the fit would change of this same circuit.</p>\n",
    "<p>We can see that without correction, the fit fidelity is very low when compared to state but with correction (in ideal circumstances) the fit is again nearly 1."
   ]
  },
  {
   "cell_type": "code",
   "execution_count": 7,
   "metadata": {},
   "outputs": [
    {
     "name": "stdout",
     "output_type": "stream",
     "text": [
      "Fit Fidelity (no correction) = 0.5735040986382227\n",
      "Fit Fidelity (w/ correction) = 0.9879899322340535\n"
     ]
    }
   ],
   "source": [
    "# add measurement noise for an imperfect model\n",
    "noise_model = noise.NoiseModel()\n",
    "for qi in range(6):\n",
    "    read_err = noise.errors.readout_error.ReadoutError([[0.75, 0.25],[0.1,0.9]])\n",
    "    noise_model.add_readout_error(read_err,[qi])\n",
    "    \n",
    "meas_calibs, state_labels = mc.complete_meas_cal(qubit_list=[3,5])\n",
    "\n",
    "backend = Aer.get_backend('qasm_simulator')\n",
    "job_cal = qiskit.execute(meas_calibs, backend=backend, shots=15000, noise_model=noise_model)\n",
    "job_tomo = qiskit.execute(qst_qc, backend=backend, shots=15000, noise_model=noise_model)\n",
    "\n",
    "meas_fitter = mc.CompleteMeasFitter(job_cal.result(),state_labels)\n",
    "\n",
    "tomo_qc = StateTomographyFitter(job_tomo.result(), qst_qc)\n",
    "\n",
    "#no correction\n",
    "rho_qc = tomo_qc.fit()\n",
    "fid_qc = state_fidelity(state, rho_qc)\n",
    "print('Fit Fidelity (no correction) =', fid_qc)\n",
    "\n",
    "#correct data\n",
    "correct_tomo_results = meas_fitter.filter.apply(job_tomo.result(), method='least_squares')\n",
    "tomo_qc = StateTomographyFitter(correct_tomo_results, qst_qc)\n",
    "rho_qc = tomo_qc.fit()\n",
    "fid_qc = state_fidelity(state, rho_qc)\n",
    "print('Fit Fidelity (w/ correction) =', fid_qc)"
   ]
  }
 ],
 "metadata": {
  "kernelspec": {
   "display_name": "Python 3",
   "language": "python",
   "name": "python3"
  },
  "language_info": {
   "codemirror_mode": {
    "name": "ipython",
    "version": 3
   },
   "file_extension": ".py",
   "mimetype": "text/x-python",
   "name": "python",
   "nbconvert_exporter": "python",
   "pygments_lexer": "ipython3",
   "version": "3.7.3"
  }
 },
 "nbformat": 4,
 "nbformat_minor": 2
}
