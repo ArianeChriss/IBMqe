{
 "cells": [
  {
   "cell_type": "code",
   "execution_count": 1,
   "metadata": {},
   "outputs": [],
   "source": [
    "import numpy as np\n",
    "from qiskit import *\n",
    "from qiskit.visualization import plot_histogram\n",
    "from qiskit.quantum_info import Pauli, state_fidelity, basis_state, process_fidelity\n",
    "from math import pi"
   ]
  },
  {
   "cell_type": "code",
   "execution_count": 2,
   "metadata": {},
   "outputs": [],
   "source": [
    "def stater(qc):\n",
    "    backend_sim = BasicAer.get_backend('statevector_simulator')\n",
    "    result = execute(qc, backend_sim).result()\n",
    "    state = result.get_statevector(qc)\n",
    "    print(state)"
   ]
  },
  {
   "cell_type": "code",
   "execution_count": 3,
   "metadata": {},
   "outputs": [],
   "source": [
    "# create a circuit with two qubits\n",
    "a = QuantumRegister(1, 'a')\n",
    "b = QuantumRegister(1, 'b')\n",
    "qc = QuantumCircuit(a,b)"
   ]
  },
  {
   "cell_type": "code",
   "execution_count": 16,
   "metadata": {
    "scrolled": true
   },
   "outputs": [
    {
     "name": "stdout",
     "output_type": "stream",
     "text": [
      "0\n",
      "[1.+0.j 0.+0.j 0.+0.j 0.+0.j]\n",
      "1\n",
      "[0.+0.j 1.+0.j 0.+0.j 0.+0.j]\n",
      "2\n",
      "[0.        +0.j 0.70710678+0.j 0.        +0.j 0.70710678+0.j]\n",
      "3\n",
      "[0.        +0.j 0.70710678+0.j 0.70710678+0.j 0.        +0.j]\n",
      "4\n",
      "[ 0.        +0.j  0.70710678+0.j -0.70710678+0.j  0.        +0.j]\n"
     ]
    }
   ],
   "source": [
    "# create a circuit with two qubits\n",
    "a = QuantumRegister(1, 'a')\n",
    "b = QuantumRegister(1, 'b')\n",
    "qc = QuantumCircuit(a,b)\n",
    "print(0)\n",
    "stater(qc)\n",
    "# insert a x gate on qubit a\n",
    "qc.x(a)\n",
    "print(1)\n",
    "stater(qc)\n",
    "## simulator: 0100\n",
    "# insert a h gate on qubit b\n",
    "qc.h(b)\n",
    "print(2)\n",
    "stater(qc)\n",
    "## simulator: 0(0.7)0(0.7)\n",
    "## at this point qubit a is guaranteed to be 1\n",
    "## and qubit b can be either 0 or 1\n",
    "## possibilities: 11,10\n",
    "# insert a cx gate from qubit b to a\n",
    "qc.cx(b,a)\n",
    "print(3)\n",
    "stater(qc)\n",
    "qc.z(b)\n",
    "print(4)\n",
    "stater(qc)\n",
    "## simulator: 0(0.7)(0.7)0\n",
    "## at this point qubit a can be either 0 or 1\n",
    "## and qubit b can be either 1 or 0\n",
    "## possibilities: 01,10"
   ]
  },
  {
   "cell_type": "code",
   "execution_count": 17,
   "metadata": {},
   "outputs": [
    {
     "data": {
      "image/png": "[encoded data removed]",
      "text/plain": [
       "<Figure size 361.2x138.46 with 1 Axes>"
      ]
     },
     "execution_count": 17,
     "metadata": {},
     "output_type": "execute_result"
    }
   ],
   "source": [
    "qc.draw(output='mpl')\n",
    "# this is a maximally entangled system in a singlet state"
   ]
  },
  {
   "cell_type": "code",
   "execution_count": 18,
   "metadata": {},
   "outputs": [
    {
     "name": "stdout",
     "output_type": "stream",
     "text": [
      "[[ 0.   +0.j  0.707+0.j  0.   +0.j  0.707+0.j]\n",
      " [ 0.707+0.j  0.   +0.j  0.707+0.j  0.   +0.j]\n",
      " [-0.707+0.j  0.   +0.j  0.707+0.j  0.   +0.j]\n",
      " [ 0.   +0.j -0.707+0.j  0.   +0.j  0.707+0.j]]\n"
     ]
    },
    {
     "data": {
      "image/png": "[encoded data removed]",
      "text/plain": [
       "<Figure size 602x258.86 with 1 Axes>"
      ]
     },
     "execution_count": 18,
     "metadata": {},
     "output_type": "execute_result"
    }
   ],
   "source": [
    "backend = Aer.get_backend('unitary_simulator')\n",
    "job = execute(qc, backend)\n",
    "result = job.result()\n",
    "print(result.get_unitary(qc, decimals=3))\n",
    "c0 = ClassicalRegister(1, 'c0')\n",
    "c1 = ClassicalRegister(1, 'c1')\n",
    "meas = QuantumCircuit(a,b,c0,c1)\n",
    "meas.draw(output='mpl')\n",
    "meas.measure(a,c0)\n",
    "meas.measure(b,c1)\n",
    "circ = qc+meas\n",
    "circ.draw(output='mpl')"
   ]
  },
  {
   "cell_type": "code",
   "execution_count": 12,
   "metadata": {},
   "outputs": [
    {
     "name": "stdout",
     "output_type": "stream",
     "text": [
      "{'1 1': 519, '0 0': 505}\n"
     ]
    }
   ],
   "source": [
    "backend_sim = Aer.get_backend('qasm_simulator')\n",
    "job_sim = execute(circ, backend_sim, shots=1024)\n",
    "result_sim = job_sim.result()\n",
    "counts = result_sim.get_counts(circ)\n",
    "print(counts)\n",
    "# there are always only two solutions: 10 and 01"
   ]
  },
  {
   "cell_type": "code",
   "execution_count": 8,
   "metadata": {},
   "outputs": [
    {
     "data": {
      "image/png": "[encoded data removed]",
      "text/plain": [
       "<Figure size 504x360 with 1 Axes>"
      ]
     },
     "execution_count": 8,
     "metadata": {},
     "output_type": "execute_result"
    }
   ],
   "source": [
    "plot_histogram(counts)"
   ]
  },
  {
   "cell_type": "code",
   "execution_count": null,
   "metadata": {},
   "outputs": [],
   "source": []
  }
 ],
 "metadata": {
  "kernelspec": {
   "display_name": "Python 3",
   "language": "python",
   "name": "python3"
  },
  "language_info": {
   "codemirror_mode": {
    "name": "ipython",
    "version": 3
   },
   "file_extension": ".py",
   "mimetype": "text/x-python",
   "name": "python",
   "nbconvert_exporter": "python",
   "pygments_lexer": "ipython3",
   "version": "3.7.3"
  }
 },
 "nbformat": 4,
 "nbformat_minor": 2
}
