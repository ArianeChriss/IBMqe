{
 "cells": [
  {
   "cell_type": "code",
   "execution_count": 1,
   "metadata": {},
   "outputs": [],
   "source": [
    "import numpy as np\n",
    "import time\n",
    "from copy import deepcopy\n",
    "\n",
    "import qiskit \n",
    "from qiskit import QuantumRegister, QuantumCircuit, ClassicalRegister, Aer\n",
    "from qiskit.quantum_info import state_fidelity\n",
    "from qiskit.providers.aer import noise\n",
    "from qiskit.visualization import iplot_state_city\n",
    "from qiskit.tools.qi.qi import *\n",
    "\n",
    "import qiskit.ignis.verification.tomography as tomo\n",
    "#from qiskit.ignis.verification.tomography import state_tomography_circuits, StateTomographyFitter, ProcessTomographyFitter\n",
    "import qiskit.ignis.mitigation.measurement as mc"
   ]
  },
  {
   "cell_type": "code",
   "execution_count": 2,
   "metadata": {},
   "outputs": [
    {
     "name": "stdout",
     "output_type": "stream",
     "text": [
      "         ┌───┐\n",
      "q0_0: |0>┤ H ├\n",
      "         └───┘\n",
      "q0_1: |0>─────\n",
      "              \n"
     ]
    }
   ],
   "source": [
    "q = QuantumRegister(2)\n",
    "circ = QuantumCircuit(q)\n",
    "circ.h(q[0])\n",
    "print(circ)"
   ]
  },
  {
   "cell_type": "code",
   "execution_count": 3,
   "metadata": {},
   "outputs": [
    {
     "name": "stdout",
     "output_type": "stream",
     "text": [
      "[[ 0.70710678+0.j  0.70710678+0.j  0.        +0.j  0.        +0.j]\n",
      " [ 0.70710678+0.j -0.70710678+0.j  0.        +0.j  0.        +0.j]\n",
      " [ 0.        +0.j  0.        +0.j  0.70710678+0.j  0.70710678+0.j]\n",
      " [ 0.        +0.j  0.        +0.j  0.70710678+0.j -0.70710678+0.j]]\n"
     ]
    }
   ],
   "source": [
    "#matrix before anything is changed\n",
    "job = qiskit.execute(circ, Aer.get_backend('unitary_simulator'))\n",
    "ideal_unitary = job.result().get_unitary(circ)\n",
    "print(ideal_unitary)"
   ]
  },
  {
   "cell_type": "code",
   "execution_count": 4,
   "metadata": {},
   "outputs": [
    {
     "data": {
      "text/html": [
       "\n",
       "    <p>\n",
       "        <div id=\"content_15646707260524325\" style=\"position: absolute; z-index: 1;\">\n",
       "            <div id=\"cities_15646707260524325\"></div>\n",
       "        </div>\n",
       "    </p>\n",
       "    \n",
       "    <script>\n",
       "        requirejs.config({\n",
       "            paths: {\n",
       "                qVisualization: \"https://qvisualization.mybluemix.net/q-visualizations\"\n",
       "            }\n",
       "        });\n",
       "\n",
       "        require([\"qVisualization\"], function(qVisualizations) {\n",
       "            data = {\n",
       "                real: [[0.7071067811865476, 0.7071067811865476, 0.0, 0.0], [0.7071067811865476, -0.7071067811865476, 0.0, 0.0], [0.0, 0.0, 0.7071067811865476, 0.7071067811865476], [0.0, 0.0, 0.7071067811865476, -0.7071067811865476]],\n",
       "                titleReal: \"Real.[rho]\",\n",
       "                imaginary: [[0.0, 0.0, 0.0, 0.0], [0.0, 0.0, 0.0, 0.0], [0.0, 0.0, 0.0, 0.0], [0.0, 0.0, 0.0, 0.0]],\n",
       "                titleImaginary: \"Im.[rho]\",\n",
       "                qbits: 4\n",
       "            };\n",
       "            qVisualizations.plotState(\"cities_15646707260524325\",\n",
       "                                      \"cities\",\n",
       "                                      data,\n",
       "                                      {});\n",
       "        });\n",
       "    </script>\n",
       "    "
      ],
      "text/plain": [
       "<IPython.core.display.HTML object>"
      ]
     },
     "metadata": {},
     "output_type": "display_data"
    }
   ],
   "source": [
    "#visualization of original density matrix\n",
    "iplot_state_city(ideal_unitary)"
   ]
  },
  {
   "cell_type": "code",
   "execution_count": 11,
   "metadata": {},
   "outputs": [
    {
     "name": "stdout",
     "output_type": "stream",
     "text": [
      "         ┌───┐┌───┐     \n",
      "q0_0: |0>┤ H ├┤ Z ├──■──\n",
      "         └───┘└───┘┌─┴─┐\n",
      "q0_1: |0>──────────┤ X ├\n",
      "                   └───┘\n"
     ]
    }
   ],
   "source": [
    "qc = deepcopy(circ)\n",
    "qc.z(q[0])\n",
    "qc.cx(q[0],q[1])\n",
    "print(qc)"
   ]
  },
  {
   "cell_type": "code",
   "execution_count": 14,
   "metadata": {},
   "outputs": [
    {
     "name": "stdout",
     "output_type": "stream",
     "text": [
      "[[ 0.70710678+0.j  0.70710678+0.j  0.        +0.j  0.        +0.j]\n",
      " [ 0.        +0.j  0.        +0.j -0.70710678+0.j  0.70710678+0.j]\n",
      " [ 0.        +0.j  0.        +0.j  0.70710678+0.j  0.70710678+0.j]\n",
      " [-0.70710678+0.j  0.70710678+0.j  0.        +0.j  0.        +0.j]]\n"
     ]
    }
   ],
   "source": [
    "#matrix after black box change is made\n",
    "job = qiskit.execute(qc, Aer.get_backend('unitary_simulator'))\n",
    "ideal_unitary2 = job.result().get_unitary(qc)\n",
    "print(ideal_unitary2)"
   ]
  },
  {
   "cell_type": "code",
   "execution_count": 15,
   "metadata": {},
   "outputs": [
    {
     "data": {
      "text/html": [
       "\n",
       "    <p>\n",
       "        <div id=\"content_15646708984334404\" style=\"position: absolute; z-index: 1;\">\n",
       "            <div id=\"cities_15646708984334404\"></div>\n",
       "        </div>\n",
       "    </p>\n",
       "    \n",
       "    <script>\n",
       "        requirejs.config({\n",
       "            paths: {\n",
       "                qVisualization: \"https://qvisualization.mybluemix.net/q-visualizations\"\n",
       "            }\n",
       "        });\n",
       "\n",
       "        require([\"qVisualization\"], function(qVisualizations) {\n",
       "            data = {\n",
       "                real: [[0.7071067811865476, 0.7071067811865476, 0.0, 0.0], [0.0, 0.0, -0.7071067811865476, 0.7071067811865476], [0.0, 0.0, 0.7071067811865476, 0.7071067811865476], [-0.7071067811865476, 0.7071067811865476, 0.0, 0.0]],\n",
       "                titleReal: \"Real.[rho]\",\n",
       "                imaginary: [[0.0, 0.0, 0.0, 0.0], [0.0, 0.0, 0.0, 0.0], [0.0, 0.0, 0.0, 0.0], [0.0, 0.0, 0.0, 0.0]],\n",
       "                titleImaginary: \"Im.[rho]\",\n",
       "                qbits: 4\n",
       "            };\n",
       "            qVisualizations.plotState(\"cities_15646708984334404\",\n",
       "                                      \"cities\",\n",
       "                                      data,\n",
       "                                      {});\n",
       "        });\n",
       "    </script>\n",
       "    "
      ],
      "text/plain": [
       "<IPython.core.display.HTML object>"
      ]
     },
     "metadata": {},
     "output_type": "display_data"
    }
   ],
   "source": [
    "#visualization of altered density matrix\n",
    "iplot_state_city(ideal_unitary2)"
   ]
  },
  {
   "cell_type": "code",
   "execution_count": 6,
   "metadata": {},
   "outputs": [],
   "source": [
    "job = qiskit.execute(circ, Aer.get_backend('unitary_simulator'))\n",
    "U = job.result().get_unitary(circ)\n",
    "choi_ideal = outer(U.ravel(order='F'))\n",
    "qst = tomo.process_tomography_circuits(circ, q)\n",
    "job = qiskit.execute(qst, Aer.get_backend('qasm_simulator'),shots=5000)\n",
    "tomo_fit = tomo.ProcessTomographyFitter(job.result(), qst)\n",
    "choi_mle = tomo_fit.fit(method='lstsq').data"
   ]
  },
  {
   "cell_type": "code",
   "execution_count": 7,
   "metadata": {},
   "outputs": [
    {
     "name": "stdout",
     "output_type": "stream",
     "text": [
      "Ideal Unitary Done\n",
      "[[ 0.5+0.j  0.5+0.j  0. +0.j  0. +0.j  0.5+0.j -0.5-0.j  0. +0.j  0. +0.j\n",
      "   0. +0.j  0. +0.j  0.5+0.j  0.5+0.j  0. +0.j  0. +0.j  0.5+0.j -0.5-0.j]\n",
      " [ 0.5+0.j  0.5+0.j  0. +0.j  0. +0.j  0.5+0.j -0.5-0.j  0. +0.j  0. +0.j\n",
      "   0. +0.j  0. +0.j  0.5+0.j  0.5+0.j  0. +0.j  0. +0.j  0.5+0.j -0.5-0.j]\n",
      " [ 0. +0.j  0. +0.j  0. +0.j  0. +0.j  0. +0.j  0. -0.j  0. +0.j  0. +0.j\n",
      "   0. +0.j  0. +0.j  0. +0.j  0. +0.j  0. +0.j  0. +0.j  0. +0.j  0. -0.j]\n",
      " [ 0. +0.j  0. +0.j  0. +0.j  0. +0.j  0. +0.j  0. -0.j  0. +0.j  0. +0.j\n",
      "   0. +0.j  0. +0.j  0. +0.j  0. +0.j  0. +0.j  0. +0.j  0. +0.j  0. -0.j]\n",
      " [ 0.5+0.j  0.5+0.j  0. +0.j  0. +0.j  0.5+0.j -0.5-0.j  0. +0.j  0. +0.j\n",
      "   0. +0.j  0. +0.j  0.5+0.j  0.5+0.j  0. +0.j  0. +0.j  0.5+0.j -0.5-0.j]\n",
      " [-0.5+0.j -0.5+0.j  0. +0.j  0. +0.j -0.5+0.j  0.5+0.j  0. +0.j  0. +0.j\n",
      "   0. +0.j  0. +0.j -0.5+0.j -0.5+0.j  0. +0.j  0. +0.j -0.5+0.j  0.5+0.j]\n",
      " [ 0. +0.j  0. +0.j  0. +0.j  0. +0.j  0. +0.j  0. -0.j  0. +0.j  0. +0.j\n",
      "   0. +0.j  0. +0.j  0. +0.j  0. +0.j  0. +0.j  0. +0.j  0. +0.j  0. -0.j]\n",
      " [ 0. +0.j  0. +0.j  0. +0.j  0. +0.j  0. +0.j  0. -0.j  0. +0.j  0. +0.j\n",
      "   0. +0.j  0. +0.j  0. +0.j  0. +0.j  0. +0.j  0. +0.j  0. +0.j  0. -0.j]\n",
      " [ 0. +0.j  0. +0.j  0. +0.j  0. +0.j  0. +0.j  0. -0.j  0. +0.j  0. +0.j\n",
      "   0. +0.j  0. +0.j  0. +0.j  0. +0.j  0. +0.j  0. +0.j  0. +0.j  0. -0.j]\n",
      " [ 0. +0.j  0. +0.j  0. +0.j  0. +0.j  0. +0.j  0. -0.j  0. +0.j  0. +0.j\n",
      "   0. +0.j  0. +0.j  0. +0.j  0. +0.j  0. +0.j  0. +0.j  0. +0.j  0. -0.j]\n",
      " [ 0.5+0.j  0.5+0.j  0. +0.j  0. +0.j  0.5+0.j -0.5-0.j  0. +0.j  0. +0.j\n",
      "   0. +0.j  0. +0.j  0.5+0.j  0.5+0.j  0. +0.j  0. +0.j  0.5+0.j -0.5-0.j]\n",
      " [ 0.5+0.j  0.5+0.j  0. +0.j  0. +0.j  0.5+0.j -0.5-0.j  0. +0.j  0. +0.j\n",
      "   0. +0.j  0. +0.j  0.5+0.j  0.5+0.j  0. +0.j  0. +0.j  0.5+0.j -0.5-0.j]\n",
      " [ 0. +0.j  0. +0.j  0. +0.j  0. +0.j  0. +0.j  0. -0.j  0. +0.j  0. +0.j\n",
      "   0. +0.j  0. +0.j  0. +0.j  0. +0.j  0. +0.j  0. +0.j  0. +0.j  0. -0.j]\n",
      " [ 0. +0.j  0. +0.j  0. +0.j  0. +0.j  0. +0.j  0. -0.j  0. +0.j  0. +0.j\n",
      "   0. +0.j  0. +0.j  0. +0.j  0. +0.j  0. +0.j  0. +0.j  0. +0.j  0. -0.j]\n",
      " [ 0.5+0.j  0.5+0.j  0. +0.j  0. +0.j  0.5+0.j -0.5-0.j  0. +0.j  0. +0.j\n",
      "   0. +0.j  0. +0.j  0.5+0.j  0.5+0.j  0. +0.j  0. +0.j  0.5+0.j -0.5-0.j]\n",
      " [-0.5+0.j -0.5+0.j  0. +0.j  0. +0.j -0.5+0.j  0.5+0.j  0. +0.j  0. +0.j\n",
      "   0. +0.j  0. +0.j -0.5+0.j -0.5+0.j  0. +0.j  0. +0.j -0.5+0.j  0.5+0.j]]\n"
     ]
    }
   ],
   "source": [
    "choi_ideal = outer(ideal_unitary.ravel(order='F'))\n",
    "print(\"Ideal Unitary Done\")\n",
    "print(choi_ideal)"
   ]
  },
  {
   "cell_type": "code",
   "execution_count": null,
   "metadata": {},
   "outputs": [],
   "source": []
  }
 ],
 "metadata": {
  "kernelspec": {
   "display_name": "Python 3",
   "language": "python",
   "name": "python3"
  },
  "language_info": {
   "codemirror_mode": {
    "name": "ipython",
    "version": 3
   },
   "file_extension": ".py",
   "mimetype": "text/x-python",
   "name": "python",
   "nbconvert_exporter": "python",
   "pygments_lexer": "ipython3",
   "version": "3.7.3"
  }
 },
 "nbformat": 4,
 "nbformat_minor": 2
}
