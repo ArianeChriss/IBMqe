{
 "cells": [
  {
   "cell_type": "code",
   "execution_count": 1,
   "metadata": {},
   "outputs": [],
   "source": [
    "import numpy as np\n",
    "from math import *\n",
    "from copy import deepcopy\n",
    "from qiskit import *\n",
    "from qiskit.visualization import *\n",
    "import matplotlib.pyplot as plt"
   ]
  },
  {
   "cell_type": "markdown",
   "metadata": {},
   "source": [
    "***Exercise 6.7-6.8:***\n",
    "\n",
    "$\\newcommand{\\ket}[1]{\\left|{#1}\\right\\rangle}\n",
    "\\newcommand{\\bra}[1]{\\left\\langle{#1}\\right|}$\n",
    "Next, Charlie prepares the spins in a different states:\n",
    "\n",
    "$\\ket{T_{1}} = \\frac{1}{\\sqrt{2}}({\\ket{01} + \\ket{10}})$\n",
    "\n",
    "$\\ket{T_{2}} = \\frac{1}{\\sqrt{2}}({\\ket{11} - \\ket{00}})$\n",
    "\n",
    "$\\ket{T_{3}} =\\frac{1}{\\sqrt{2}}({\\ket{11} + \\ket{00}})$\n",
    "\n",
    "In these examples, T stands for triplet. These triplet states\n",
    "are completely different from the states in the coin and die\n",
    "examples. What are the expectation values of the operators\n",
    "$σ_{z}τ_{z}$, $σ_{x}τ_{x}$, and $ σ_{y}τ_{y}$?\n"
   ]
  },
  {
   "cell_type": "code",
   "execution_count": 2,
   "metadata": {},
   "outputs": [
    {
     "name": "stdout",
     "output_type": "stream",
     "text": [
      "T1 State-Vec: [0.        +0.j 0.70710678+0.j 0.70710678+0.j 0.        +0.j]\n",
      "T2 State-Vec: [ 0.70710678+0.j  0.        +0.j  0.        +0.j -0.70710678+0.j]\n",
      "T3 State-Vec: [0.70710678+0.j 0.        +0.j 0.        +0.j 0.70710678+0.j]\n"
     ]
    }
   ],
   "source": [
    "#Prepare the triplet states\n",
    "q = QuantumRegister(2)\n",
    "c = ClassicalRegister(2)\n",
    "\n",
    "T1 = QuantumCircuit(q,c)\n",
    "T1.x(0) #pauli gate =NOT gate =bit flip\n",
    "T1.ry(pi/2,1)\n",
    "T1.cx(q[1],q[0])\n",
    "\n",
    "result1 = execute(T1, backend = BasicAer.get_backend('statevector_simulator')).result()\n",
    "psi1 = result1.get_statevector(T1)\n",
    "print('T1 State-Vec:' , psi1)\n",
    "\n",
    "T2 = QuantumCircuit(q,c)\n",
    "T2.ry(-pi/2, 0)\n",
    "T2.cx(q[0] , q[1])\n",
    "\n",
    "result2 = execute(T2, backend = BasicAer.get_backend('statevector_simulator')).result()\n",
    "psi2 = result2.get_statevector(T2)\n",
    "print('T2 State-Vec:' , psi2)\n",
    "\n",
    "T3 = QuantumCircuit(q,c)\n",
    "T3.ry(pi/2,0)\n",
    "T3.cx(q[0] , q[1])\n",
    "\n",
    "result3 = execute(T3, backend = BasicAer.get_backend('statevector_simulator')).result()\n",
    "psi3 = result3.get_statevector(T3)\n",
    "print('T3 State-Vec:' , psi3)"
   ]
  },
  {
   "cell_type": "code",
   "execution_count": 3,
   "metadata": {},
   "outputs": [],
   "source": [
    "#Helper function to find state\n",
    "def getStateVector(circ):\n",
    "    result = execute(circ, backend = BasicAer.get_backend('statevector_simulator')).result()\n",
    "    psi = result.get_statevector(circ)\n",
    "    return psi"
   ]
  },
  {
   "cell_type": "code",
   "execution_count": 7,
   "metadata": {},
   "outputs": [
    {
     "name": "stdout",
     "output_type": "stream",
     "text": [
      "Triplet State 1:\n",
      "Expectation Value Z: (-1+0j)\n",
      "Expectation Value X: (1+0j)\n",
      "Expectation Value Y: (1+0j)\n",
      "Triplet State 2:\n",
      "Expectation Value Z: (1+0j)\n",
      "Expectation Value X: (-1+0j)\n",
      "Expectation Value Y: (1+0j)\n",
      "Triplet State 3:\n",
      "Expectation Value Z: (1+0j)\n",
      "Expectation Value X: (1+0j)\n",
      "Expectation Value Y: (-1+0j)\n"
     ]
    }
   ],
   "source": [
    "def getExpectValue(circ):\n",
    "    psi = getStateVector(circ)\n",
    "    \n",
    "    q = QuantumRegister(2)\n",
    "    c = ClassicalRegister(2)\n",
    "    \n",
    "    circZ = deepcopy(circ)\n",
    "    circZ.z(0)\n",
    "    circZ.z(1)\n",
    "    \n",
    "    circX = deepcopy(circ)\n",
    "    circX.x(0)\n",
    "    circX.x(1)\n",
    "\n",
    "    circY = deepcopy(circ)\n",
    "    circY.y(0)\n",
    "    circY.y(1)\n",
    "    \n",
    "    print('Expectation Value Z:', (np.transpose(psi)@getStateVector(circZ)).round(1))\n",
    "    print('Expectation Value X:', (np.transpose(psi)@getStateVector(circX)).round(1))\n",
    "    print('Expectation Value Y:', (np.transpose(psi)@getStateVector(circY)).round(1))\n",
    "\n",
    "    \n",
    "print('Triplet State 1:')\n",
    "getExpectValue(T1)\n",
    "print('Triplet State 2:') \n",
    "getExpectValue(T2)\n",
    "print('Triplet State 3:')\n",
    "getExpectValue(T3)"
   ]
  },
  {
   "cell_type": "code",
   "execution_count": null,
   "metadata": {},
   "outputs": [],
   "source": []
  }
 ],
 "metadata": {
  "kernelspec": {
   "display_name": "Python 3",
   "language": "python",
   "name": "python3"
  },
  "language_info": {
   "codemirror_mode": {
    "name": "ipython",
    "version": 3
   },
   "file_extension": ".py",
   "mimetype": "text/x-python",
   "name": "python",
   "nbconvert_exporter": "python",
   "pygments_lexer": "ipython3",
   "version": "3.7.3"
  }
 },
 "nbformat": 4,
 "nbformat_minor": 2
}
