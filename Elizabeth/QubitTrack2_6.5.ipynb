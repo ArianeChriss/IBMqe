{
 "cells": [
  {
   "cell_type": "markdown",
   "metadata": {},
   "source": [
    "<body>\n",
    "    <div>\n",
    "        <tr><h1>\n",
    "        <b><font face=\"Verdana\">Exercise 6.5:</font></b>\n",
    "        </h1></tr>\n",
    "        <p>\n",
    "            Prove the following theorem:<br>\n",
    "            <i>When any one of Alice’s or Bob’s spin operators acts on a product state, the result is still a product state.</i>\n",
    "        </p>\n",
    "        <p>\n",
    "            Show that in a product state, the expectation value of any component of vector σ and vector τ is exactly the same as it would be in the individual single-spin states.\n",
    "        </p>\n",
    "    </div>\n",
    "</body>"
   ]
  },
  {
   "cell_type": "code",
   "execution_count": 33,
   "metadata": {},
   "outputs": [],
   "source": [
    "import numpy as np\n",
    "from qiskit import *\n",
    "from qiskit.visualization import plot_histogram\n",
    "from qiskit.quantum_info import Pauli, state_fidelity, basis_state, process_fidelity\n",
    "from math import pi"
   ]
  },
  {
   "cell_type": "code",
   "execution_count": 34,
   "metadata": {},
   "outputs": [],
   "source": [
    "## this function is used as a simple way to calculate the state vector of a circuit qc\n",
    "def stater(qc):\n",
    "    backend_sim = BasicAer.get_backend('statevector_simulator')\n",
    "    result = execute(qc, backend_sim).result()\n",
    "    state = result.get_statevector(qc)\n",
    "    print(state)"
   ]
  },
  {
   "cell_type": "markdown",
   "metadata": {},
   "source": [
    "First represent the problem as a circuit of two qubits."
   ]
  },
  {
   "cell_type": "code",
   "execution_count": 35,
   "metadata": {},
   "outputs": [],
   "source": [
    "a = QuantumRegister(1, 'a')\n",
    "b = QuantumRegister(1, 'b')\n",
    "qc = QuantumCircuit(a,b)"
   ]
  },
  {
   "cell_type": "markdown",
   "metadata": {},
   "source": [
    "By adding a single qubit gate to only one qubit a, only that qubit will change. Qubit b will be completely unaffected."
   ]
  },
  {
   "cell_type": "code",
   "execution_count": 36,
   "metadata": {
    "scrolled": true
   },
   "outputs": [
    {
     "name": "stdout",
     "output_type": "stream",
     "text": [
      "Original:\n",
      "[1.+0.j 0.+0.j 0.+0.j 0.+0.j]\n",
      "1\n",
      "[0.+0.j 1.+0.j 0.+0.j 0.+0.j]\n",
      "State Vector:\n",
      "[0.+0.j 1.+0.j 0.+0.j 0.+0.j]\n"
     ]
    }
   ],
   "source": [
    "print('Original:')\n",
    "stater(qc)\n",
    "# insert a x gate on qubit a\n",
    "## qubit a is guaranteed to be 1\n",
    "qc.x(a)\n",
    "print(1)\n",
    "stater(qc)\n",
    "print('State Vector:')\n",
    "stater(qc)"
   ]
  },
  {
   "cell_type": "code",
   "execution_count": 37,
   "metadata": {},
   "outputs": [
    {
     "data": {
      "image/png": "[encoded data removed]",
      "text/plain": [
       "<Figure size 240.8x138.46 with 1 Axes>"
      ]
     },
     "execution_count": 37,
     "metadata": {},
     "output_type": "execute_result"
    }
   ],
   "source": [
    "qc.draw(output='mpl')\n",
    "# the two qubits never intersect so they are product states"
   ]
  },
  {
   "cell_type": "markdown",
   "metadata": {},
   "source": [
    "$\\newcommand{\\ket}[1]{\\left|{#1}\\right\\rangle}\n",
    "\\newcommand{\\bra}[1]{\\left\\langle{#1}\\right|}$\n",
    "\n",
    "<p>The system was originally $\\ket{00}$ because both qubits start with state 0. When we applied an x gate to the first qubit of the circuit it changed to $\\ket{10}$. Only the first 0 was changed to a 1 and the second was unaffected. This shows that adding a single qubit gate keeps the circuit as a product state as if the qubits were in their own single qubit systems.</p>"
   ]
  },
  {
   "cell_type": "code",
   "execution_count": 38,
   "metadata": {},
   "outputs": [
    {
     "name": "stdout",
     "output_type": "stream",
     "text": [
      "[[0.+0.j 1.+0.j 0.+0.j 0.+0.j]\n",
      " [1.+0.j 0.+0.j 0.+0.j 0.+0.j]\n",
      " [0.+0.j 0.+0.j 0.+0.j 1.+0.j]\n",
      " [0.+0.j 0.+0.j 1.+0.j 0.+0.j]]\n"
     ]
    },
    {
     "data": {
      "image/png": "[encoded data removed]",
      "text/plain": [
       "<Figure size 421.4x258.86 with 1 Axes>"
      ]
     },
     "execution_count": 38,
     "metadata": {},
     "output_type": "execute_result"
    }
   ],
   "source": [
    "backend = Aer.get_backend('unitary_simulator')\n",
    "job = execute(qc, backend)\n",
    "result = job.result()\n",
    "print(result.get_unitary(qc, decimals=3))\n",
    "# introduce and measure classical bits in order to verify the result\n",
    "c0 = ClassicalRegister(1, 'c0')\n",
    "c1 = ClassicalRegister(1, 'c1')\n",
    "meas = QuantumCircuit(a,b,c0,c1)\n",
    "meas.draw(output='mpl')\n",
    "meas.measure(a,c0)\n",
    "meas.measure(b,c1)\n",
    "circ = qc+meas\n",
    "circ.draw(output='mpl')"
   ]
  },
  {
   "cell_type": "code",
   "execution_count": 39,
   "metadata": {},
   "outputs": [
    {
     "name": "stdout",
     "output_type": "stream",
     "text": [
      "{'0 1': 1024}\n"
     ]
    }
   ],
   "source": [
    "backend_sim = Aer.get_backend('qasm_simulator')\n",
    "job_sim = execute(circ, backend_sim, shots=1024)\n",
    "result_sim = job_sim.result()\n",
    "counts = result_sim.get_counts(circ)\n",
    "print(counts)"
   ]
  },
  {
   "cell_type": "markdown",
   "metadata": {},
   "source": [
    "<p>\n",
    "    The final result will be definite. Qubit a will always be 1 and qubit b will always be 0 because they both begin as product states. When spin operators are used the result will always be a product state as well.\n",
    "</p>\n",
    "<p>\n",
    "    We can verify our findings by looking at a single qubit system of each qubit. Let's look at qubit a:\n",
    "</p>"
   ]
  },
  {
   "cell_type": "code",
   "execution_count": 40,
   "metadata": {},
   "outputs": [],
   "source": [
    "# create two circuits with one qubit each\n",
    "a = QuantumRegister(1, 'a')\n",
    "b = QuantumRegister(1, 'b')\n",
    "qcA = QuantumCircuit(a)\n",
    "qcB = QuantumCircuit(b)"
   ]
  },
  {
   "cell_type": "markdown",
   "metadata": {},
   "source": [
    "Inserting an x gate on this single qubit system should give us the same result as when we used an x gate on qubit a in the two qubit system."
   ]
  },
  {
   "cell_type": "code",
   "execution_count": 41,
   "metadata": {},
   "outputs": [
    {
     "name": "stdout",
     "output_type": "stream",
     "text": [
      "Original:\n",
      "[1.+0.j 0.+0.j]\n",
      "State Vector:\n",
      "[0.+0.j 1.+0.j]\n"
     ]
    }
   ],
   "source": [
    "print('Original:')\n",
    "stater(qcA)\n",
    "# insert a x gate on qubit a\n",
    "## qubit a is guaranteed to be 1\n",
    "qcA.x(a)\n",
    "print('State Vector:')\n",
    "stater(qcA)"
   ]
  },
  {
   "cell_type": "code",
   "execution_count": 42,
   "metadata": {},
   "outputs": [
    {
     "data": {
      "image/png": "[encoded data removed]",
      "text/plain": [
       "<Figure size 240.8x78.26 with 1 Axes>"
      ]
     },
     "execution_count": 42,
     "metadata": {},
     "output_type": "execute_result"
    }
   ],
   "source": [
    "qcA.draw(output='mpl')\n",
    "# this is a single qubit circuit"
   ]
  },
  {
   "cell_type": "code",
   "execution_count": 43,
   "metadata": {},
   "outputs": [
    {
     "name": "stdout",
     "output_type": "stream",
     "text": [
      "[[0.+0.j 1.+0.j]\n",
      " [1.+0.j 0.+0.j]]\n"
     ]
    },
    {
     "data": {
      "image/png": "[encoded data removed]",
      "text/plain": [
       "<Figure size 361.2x138.46 with 1 Axes>"
      ]
     },
     "execution_count": 43,
     "metadata": {},
     "output_type": "execute_result"
    }
   ],
   "source": [
    "backend = Aer.get_backend('unitary_simulator')\n",
    "job = execute(qcA, backend)\n",
    "result = job.result()\n",
    "print(result.get_unitary(qcA, decimals=3))\n",
    "c0 = ClassicalRegister(1, 'c0')\n",
    "meas = QuantumCircuit(a,c0)\n",
    "meas.draw(output='mpl')\n",
    "meas.measure(a,c0)\n",
    "circ = qcA+meas\n",
    "circ.draw(output='mpl')"
   ]
  },
  {
   "cell_type": "code",
   "execution_count": 44,
   "metadata": {},
   "outputs": [
    {
     "name": "stdout",
     "output_type": "stream",
     "text": [
      "{'1': 1024}\n"
     ]
    }
   ],
   "source": [
    "backend_sim = Aer.get_backend('qasm_simulator')\n",
    "job_sim = execute(circ, backend_sim, shots=1024)\n",
    "result_sim = job_sim.result()\n",
    "counts = result_sim.get_counts(circ)\n",
    "print(counts)"
   ]
  },
  {
   "cell_type": "markdown",
   "metadata": {},
   "source": [
    "The final result is the same as the final result of a two qubit system (the state is 1) when the two qubits are not entangled.\n",
    "Let's try the same thing for qubit b:\n",
    "<p>\n",
    "    Qubit b is left unchanged just as in the two qubit system.\n",
    "</p>"
   ]
  },
  {
   "cell_type": "code",
   "execution_count": 45,
   "metadata": {},
   "outputs": [
    {
     "name": "stdout",
     "output_type": "stream",
     "text": [
      "Original:\n",
      "[1.+0.j 0.+0.j]\n",
      "State Vector:\n",
      "[1.+0.j 0.+0.j]\n"
     ]
    }
   ],
   "source": [
    "print('Original:')\n",
    "stater(qcB)\n",
    "# leave qubit b unchanged\n",
    "## qubit b is guaranteed to be 0\n",
    "print('State Vector:')\n",
    "stater(qcB)"
   ]
  },
  {
   "cell_type": "code",
   "execution_count": 46,
   "metadata": {},
   "outputs": [
    {
     "data": {
      "image/png": "[encoded data removed]",
      "text/plain": [
       "<Figure size 180.6x78.26 with 1 Axes>"
      ]
     },
     "execution_count": 46,
     "metadata": {},
     "output_type": "execute_result"
    }
   ],
   "source": [
    "qcB.draw(output='mpl')\n",
    "# this is a single qubit circuit"
   ]
  },
  {
   "cell_type": "code",
   "execution_count": 47,
   "metadata": {},
   "outputs": [
    {
     "name": "stdout",
     "output_type": "stream",
     "text": [
      "[[1.+0.j 0.+0.j]\n",
      " [0.+0.j 1.+0.j]]\n"
     ]
    },
    {
     "data": {
      "image/png": "[encoded data removed]",
      "text/plain": [
       "<Figure size 301x138.46 with 1 Axes>"
      ]
     },
     "execution_count": 47,
     "metadata": {},
     "output_type": "execute_result"
    }
   ],
   "source": [
    "backend = Aer.get_backend('unitary_simulator')\n",
    "job = execute(qcB, backend)\n",
    "result = job.result()\n",
    "print(result.get_unitary(qcB, decimals=3))\n",
    "c1 = ClassicalRegister(1, 'c1')\n",
    "meas = QuantumCircuit(b,c1)\n",
    "meas.draw(output='mpl')\n",
    "meas.measure(b,c1)\n",
    "circ = qcB+meas\n",
    "circ.draw(output='mpl')"
   ]
  },
  {
   "cell_type": "code",
   "execution_count": 48,
   "metadata": {},
   "outputs": [
    {
     "name": "stdout",
     "output_type": "stream",
     "text": [
      "{'0': 1024}\n"
     ]
    }
   ],
   "source": [
    "backend_sim = Aer.get_backend('qasm_simulator')\n",
    "job_sim = execute(circ, backend_sim, shots=1024)\n",
    "result_sim = job_sim.result()\n",
    "counts = result_sim.get_counts(circ)\n",
    "print(counts)"
   ]
  },
  {
   "cell_type": "markdown",
   "metadata": {},
   "source": [
    "The final result is the same as the final result of a two qubit system (the state is 0) when the two qubits are not entangled."
   ]
  },
  {
   "cell_type": "markdown",
   "metadata": {},
   "source": [
    "<p>\n",
    "    The expectation values of the components of σ and τ further shows that single qubit gates on a two qubit system will act as a single qubit circuit does.<br>\n",
    "    We can use $\\sigma_{x}$ as an example.\n",
    "</p>\n",
    "<p>\n",
    "So if we had an individual spin state , $\\ket{0}$ , the expectation value of $\\sigma_{x}$ would be $\\bra{0} \\sigma_{x}\\ket{0}$.\n",
    "\n",
    "$\\bra{0} \\tau_{x} \\ket{0} = \\begin{bmatrix}   \n",
    "                    1&&0 \n",
    "                    \\end{bmatrix} \\begin{bmatrix}   \n",
    "                                    0&&1\\\\\n",
    "                                     1&&0\n",
    "                                    \\end{bmatrix} \\begin{bmatrix}   \n",
    "                                                        1 \\\\\n",
    "                                                        0 \n",
    "                                                        \\end{bmatrix} = 0$\n",
    "                                                        \n",
    "Similarly, for the product state $\\ket{00}$, the expecation value of $\\tau_{x}$ would be $\\bra{00} \\tau_{x} \\ket{00}$.\n",
    "\n",
    "$\\bra{00} \\tau_{x} \\ket{ 00} = \\begin{bmatrix}   \n",
    "                    1&&0&&0&&0\n",
    "                    \\end{bmatrix} (I \\otimes \\tau_{x}) \\begin{bmatrix}   \n",
    "                                                        1 \\\\\n",
    "                                                        0 \\\\\n",
    "                                                        0 \\\\\n",
    "                                                        0 \n",
    "                                                        \\end{bmatrix} = \\begin{bmatrix}   \n",
    "                                                                        1&&0&&0&&0\n",
    "                                                                        \\end{bmatrix} \\begin{bmatrix}   \n",
    "                                                                                        0 \\\\\n",
    "                                                                                        1 \\\\\n",
    "                                                                                        0 \\\\\n",
    "                                                                                        0 \n",
    "                                                                                        \\end{bmatrix} =0$"
   ]
  },
  {
   "cell_type": "code",
   "execution_count": null,
   "metadata": {},
   "outputs": [],
   "source": []
  }
 ],
 "metadata": {
  "kernelspec": {
   "display_name": "Python 3",
   "language": "python",
   "name": "python3"
  },
  "language_info": {
   "codemirror_mode": {
    "name": "ipython",
    "version": 3
   },
   "file_extension": ".py",
   "mimetype": "text/x-python",
   "name": "python",
   "nbconvert_exporter": "python",
   "pygments_lexer": "ipython3",
   "version": "3.7.3"
  }
 },
 "nbformat": 4,
 "nbformat_minor": 2
}
