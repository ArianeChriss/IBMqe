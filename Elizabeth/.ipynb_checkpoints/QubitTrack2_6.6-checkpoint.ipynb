{
 "cells": [
  {
   "cell_type": "markdown",
   "metadata": {},
   "source": [
    "<b>Exercise 6.6:</b>\n",
    "\n",
    "Assume Charlie has prepared the two spins in the singlet state. This time, Bob measure τy and Alice measures σx. What is the expectation value of σxτy?\n",
    "\n",
    "What does this say about the correlation between the two measurements?"
   ]
  },
  {
   "cell_type": "code",
   "execution_count": 1,
   "metadata": {},
   "outputs": [],
   "source": [
    "import numpy as np\n",
    "from qiskit import *\n",
    "from qiskit.visualization import plot_histogram, iplot_state_city\n",
    "from qiskit.quantum_info import Pauli, state_fidelity, basis_state, process_fidelity\n",
    "from math import pi"
   ]
  },
  {
   "cell_type": "code",
   "execution_count": 2,
   "metadata": {},
   "outputs": [],
   "source": [
    "def stater(qc):\n",
    "    backend_sim = BasicAer.get_backend('statevector_simulator')\n",
    "    result = execute(qc, backend_sim).result()\n",
    "    state = result.get_statevector(qc)\n",
    "    print(state)\n",
    "    return state"
   ]
  },
  {
   "cell_type": "code",
   "execution_count": 3,
   "metadata": {},
   "outputs": [],
   "source": [
    "# create a circuit with two qubits\n",
    "a = QuantumRegister(1, 'a')\n",
    "b = QuantumRegister(1, 'b')\n",
    "qc = QuantumCircuit(a,b)"
   ]
  },
  {
   "cell_type": "markdown",
   "metadata": {},
   "source": [
    "The following code lists out the different gates used in the circuit to connect them in a singlet state.\n",
    "\n",
    "The simulator represents the four values of a given state vector and so we can see how the matrix of values would change after each new gate is added.\n",
    "\n",
    "Possibilities represents the classical bits that could result after each new gate is added."
   ]
  },
  {
   "cell_type": "code",
   "execution_count": 4,
   "metadata": {
    "scrolled": true
   },
   "outputs": [
    {
     "name": "stdout",
     "output_type": "stream",
     "text": [
      "Original:\n",
      "[1.+0.j 0.+0.j 0.+0.j 0.+0.j]\n",
      "1\n",
      "[0.+0.j 1.+0.j 0.+0.j 0.+0.j]\n",
      "2\n",
      "[0.        +0.j 0.70710678+0.j 0.        +0.j 0.70710678+0.j]\n",
      "3\n",
      "[0.        +0.j 0.70710678+0.j 0.70710678+0.j 0.        +0.j]\n",
      "State Vector:\n",
      "[ 0.        +0.j  0.70710678+0.j -0.70710678+0.j  0.        +0.j]\n"
     ]
    }
   ],
   "source": [
    "print('Original:')\n",
    "stater(qc)\n",
    "# insert a x gate on qubit a\n",
    "qc.x(a)\n",
    "print(1)\n",
    "stater(qc)\n",
    "## simulator: 0100\n",
    "# insert a h gate on qubit b\n",
    "qc.h(b)\n",
    "print(2)\n",
    "stater(qc)\n",
    "## simulator: 0(0.7)0(0.7)\n",
    "## at this point qubit a is guaranteed to be 1\n",
    "## and qubit b can be either 0 or 1\n",
    "## possibilities: 11,10\n",
    "# insert a cx gate from qubit b to a\n",
    "qc.cx(b,a)\n",
    "print(3)\n",
    "stater(qc)\n",
    "## simulator: 0(0.7)(0.7)0\n",
    "## at this point qubit a can be either 0 or 1\n",
    "## and qubit b can be either 0 or 1 depending on qubit a\n",
    "## possibilities: 10,01\n",
    "# insert a z gate on qubit b\n",
    "print('State Vector:')\n",
    "qc.z(b)\n",
    "## simulator: 0(0.7)(-0.7)0\n",
    "## at this point qubit a can be either 1 or 0\n",
    "## and qubit b can be either 1 or 0 in a negative superposition\n",
    "## possibilities: 01,10\n",
    "# store the state vector to calculate expectation value\n",
    "singState = stater(qc)"
   ]
  },
  {
   "cell_type": "code",
   "execution_count": 5,
   "metadata": {},
   "outputs": [
    {
     "data": {
      "text/html": [
       "\n",
       "    <p>\n",
       "        <div id=\"content_15633778985248036\" style=\"position: absolute; z-index: 1;\">\n",
       "            <div id=\"cities_15633778985248036\"></div>\n",
       "        </div>\n",
       "    </p>\n",
       "    \n",
       "    <script>\n",
       "        requirejs.config({\n",
       "            paths: {\n",
       "                qVisualization: \"https://qvisualization.mybluemix.net/q-visualizations\"\n",
       "            }\n",
       "        });\n",
       "\n",
       "        require([\"qVisualization\"], function(qVisualizations) {\n",
       "            data = {\n",
       "                real: [[0.0, 0.0, 0.0, 0.0], [0.0, 0.5000000000000001, -0.5000000000000001, 0.0], [0.0, -0.5000000000000001, 0.5000000000000001, 0.0], [0.0, 0.0, 0.0, 0.0]],\n",
       "                titleReal: \"Real.[rho]\",\n",
       "                imaginary: [[0.0, 0.0, -0.0, 0.0], [0.0, 0.0, -0.0, 0.0], [0.0, 0.0, 0.0, 0.0], [0.0, 0.0, -0.0, 0.0]],\n",
       "                titleImaginary: \"Im.[rho]\",\n",
       "                qbits: 4\n",
       "            };\n",
       "            qVisualizations.plotState(\"cities_15633778985248036\",\n",
       "                                      \"cities\",\n",
       "                                      data,\n",
       "                                      {});\n",
       "        });\n",
       "    </script>\n",
       "    "
      ],
      "text/plain": [
       "<IPython.core.display.HTML object>"
      ]
     },
     "metadata": {},
     "output_type": "display_data"
    }
   ],
   "source": [
    "iplot_state_city(singState)"
   ]
  },
  {
   "cell_type": "code",
   "execution_count": 6,
   "metadata": {},
   "outputs": [
    {
     "data": {
      "image/png": "[encoded data removed]",
      "text/plain": [
       "<Figure size 361.2x138.46 with 1 Axes>"
      ]
     },
     "execution_count": 6,
     "metadata": {},
     "output_type": "execute_result"
    }
   ],
   "source": [
    "qc.draw(output='mpl')\n",
    "# this is a maximally entangled system in a singlet state"
   ]
  },
  {
   "cell_type": "code",
   "execution_count": 7,
   "metadata": {},
   "outputs": [
    {
     "name": "stdout",
     "output_type": "stream",
     "text": [
      "[[ 0.   +0.j  0.707+0.j  0.   +0.j  0.707+0.j]\n",
      " [ 0.707+0.j  0.   +0.j  0.707+0.j  0.   +0.j]\n",
      " [-0.707+0.j  0.   +0.j  0.707+0.j  0.   +0.j]\n",
      " [ 0.   +0.j -0.707+0.j  0.   +0.j  0.707+0.j]]\n"
     ]
    },
    {
     "data": {
      "image/png": "[encoded data removed]",
      "text/plain": [
       "<Figure size 602x258.86 with 1 Axes>"
      ]
     },
     "execution_count": 7,
     "metadata": {},
     "output_type": "execute_result"
    }
   ],
   "source": [
    "backend = Aer.get_backend('unitary_simulator')\n",
    "job = execute(qc, backend)\n",
    "result = job.result()\n",
    "print(result.get_unitary(qc, decimals=3))\n",
    "c0 = ClassicalRegister(1, 'c0')\n",
    "c1 = ClassicalRegister(1, 'c1')\n",
    "meas = QuantumCircuit(a,b,c0,c1)\n",
    "meas.draw(output='mpl')\n",
    "meas.measure(a,c0)\n",
    "meas.measure(b,c1)\n",
    "circ = qc+meas\n",
    "circ.draw(output='mpl')"
   ]
  },
  {
   "cell_type": "code",
   "execution_count": 8,
   "metadata": {},
   "outputs": [
    {
     "name": "stdout",
     "output_type": "stream",
     "text": [
      "{'0 1': 540, '1 0': 484}\n"
     ]
    }
   ],
   "source": [
    "backend_sim = Aer.get_backend('qasm_simulator')\n",
    "job_sim = execute(circ, backend_sim, shots=1024)\n",
    "result_sim = job_sim.result()\n",
    "counts = result_sim.get_counts(circ)\n",
    "print(counts)\n",
    "# there are always only two solutions: 01 and 10"
   ]
  },
  {
   "cell_type": "code",
   "execution_count": 9,
   "metadata": {},
   "outputs": [
    {
     "data": {
      "image/png": "[encoded data removed]",
      "text/plain": [
       "<Figure size 504x360 with 1 Axes>"
      ]
     },
     "execution_count": 9,
     "metadata": {},
     "output_type": "execute_result"
    }
   ],
   "source": [
    "plot_histogram(counts)"
   ]
  },
  {
   "cell_type": "code",
   "execution_count": 10,
   "metadata": {},
   "outputs": [
    {
     "name": "stdout",
     "output_type": "stream",
     "text": [
      "State Vector: [0.+0.j         0.-0.70710678j 0.-0.70710678j 0.+0.j        ]\n",
      "Singlet State: [ 0.        +0.j  0.70710678+0.j -0.70710678+0.j  0.        +0.j]\n",
      "Expectation Value: 0j\n"
     ]
    }
   ],
   "source": [
    "circuit = QuantumCircuit(a,b)\n",
    "circuit.y(a)\n",
    "circuit.x(b)\n",
    "tao_y = qc + circuit\n",
    "\n",
    "circuit1 = QuantumCircuit(a,b,c0,c1)\n",
    "circuit1.measure(a,c0)\n",
    "circuit1.measure(b,c1)\n",
    "\n",
    "tao_y_meas = qc + circuit + circuit1\n",
    "tao_y_meas.draw(output='mpl')\n",
    "\n",
    "result = execute(tao_y, backend = BasicAer.get_backend('statevector_simulator')).result()\n",
    "psi = result.get_statevector(tao_y)\n",
    "print('State Vector:' , psi)\n",
    "print('Singlet State:' , singState)\n",
    "print('Expectation Value:' , np.transpose(singState)@psi)"
   ]
  }
 ],
 "metadata": {
  "kernelspec": {
   "display_name": "Python 3",
   "language": "python",
   "name": "python3"
  },
  "language_info": {
   "codemirror_mode": {
    "name": "ipython",
    "version": 3
   },
   "file_extension": ".py",
   "mimetype": "text/x-python",
   "name": "python",
   "nbconvert_exporter": "python",
   "pygments_lexer": "ipython3",
   "version": "3.7.3"
  }
 },
 "nbformat": 4,
 "nbformat_minor": 2
}
