{
 "cells": [
  {
   "cell_type": "markdown",
   "metadata": {},
   "source": [
    "<b>Exercise 6.7:</b>\n",
    "\n",
    "Next, Charlie prepares the spins in a different state, called |T1⟩, where\n",
    "\n",
    "|T1⟩ = (1/√2)(|ud⟩+|du⟩)\n",
    "\n",
    "In these examples, T stands for triplet. These triplet states are completely different from the states in the coin and die examples. What are the expectation values of the operators σzτz,σxτx, and σyτy?\n",
    "What a difference a sign can make!\n",
    "\n",
    "$\\newcommand{\\ket}[1]{\\left|{#1}\\right\\rangle}\n",
    "\\newcommand{\\bra}[1]{\\left\\langle{#1}\\right|}$\n",
    "Next, Charlie prepares the spins in a different states:\n",
    "\n",
    "$\\ket{T_{1}} = \\frac{1}{\\sqrt{2}}({\\ket{01} + \\ket{10}})$\n",
    "\n",
    "$\\ket{T_{2}} = \\frac{1}{\\sqrt{2}}({\\ket{11} - \\ket{00}})$\n",
    "\n",
    "$\\ket{T_{3}} =\\frac{1}{\\sqrt{2}}({\\ket{11} + \\ket{00}})$\n",
    "\n",
    "In these examples, T stands for triplet. These triplet states\n",
    "are completely different from the states in the coin and die\n",
    "examples. What are the expectation values of the operators\n",
    "$σ_{z}τ_{z}$, $σ_{x}τ_{x}$, and $ σ_{y}τ_{y}$?\n"
   ]
  },
  {
   "cell_type": "code",
   "execution_count": 1,
   "metadata": {},
   "outputs": [],
   "source": [
    "import numpy as np\n",
    "from copy import *\n",
    "from qiskit import *\n",
    "from qiskit.visualization import plot_histogram, iplot_state_city\n",
    "from qiskit.quantum_info import Pauli, state_fidelity, basis_state, process_fidelity\n",
    "from math import *"
   ]
  },
  {
   "cell_type": "code",
   "execution_count": 2,
   "metadata": {},
   "outputs": [],
   "source": [
    "def stater(qc):\n",
    "    backend_sim = BasicAer.get_backend('statevector_simulator')\n",
    "    result = execute(qc, backend_sim).result()\n",
    "    state = result.get_statevector(qc)\n",
    "    #print(state)\n",
    "    return state"
   ]
  },
  {
   "cell_type": "code",
   "execution_count": 3,
   "metadata": {},
   "outputs": [],
   "source": [
    "# create a circuit with two qubits\n",
    "a = QuantumRegister(1, 'a')\n",
    "b = QuantumRegister(1, 'b')\n",
    "qc = QuantumCircuit(a,b)"
   ]
  },
  {
   "cell_type": "markdown",
   "metadata": {},
   "source": [
    "The following code lists out the different gates used in the circuit to connect them in a triplet state.\n",
    "\n",
    "The simulator represents the four values of a given state vector and so we can see how the matrix of values would change after each new gate is added.\n",
    "\n",
    "Possibilities represents the classical bits that could result after each new gate is added."
   ]
  },
  {
   "cell_type": "code",
   "execution_count": 4,
   "metadata": {
    "scrolled": true
   },
   "outputs": [
    {
     "name": "stdout",
     "output_type": "stream",
     "text": [
      "Original:\n",
      "1\n",
      "[0.+0.j 1.+0.j 0.+0.j 0.+0.j]\n",
      "2\n",
      "[0.        +0.j 0.70710678+0.j 0.        +0.j 0.70710678+0.j]\n",
      "State Vector:\n",
      "[0.        +0.j 0.70710678+0.j 0.70710678+0.j 0.        +0.j]\n"
     ]
    }
   ],
   "source": [
    "print('Original:')\n",
    "stater(qc)\n",
    "# insert a x gate on qubit a\n",
    "qc.x(a)\n",
    "print(1)\n",
    "print(stater(qc))\n",
    "## simulator: 0100\n",
    "# insert a h gate on qubit b\n",
    "qc.h(b)\n",
    "print(2)\n",
    "print(stater(qc))\n",
    "## simulator: 0(0.7)0(0.7)\n",
    "## at this point qubit a is guaranteed to be 1\n",
    "## and qubit b can be either 0 or 1\n",
    "## possibilities: 11,10\n",
    "# insert a cx gate from qubit b to a\n",
    "qc.cx(b,a)\n",
    "print('State Vector:')\n",
    "## simulator: 0(0.7)(0.7)0\n",
    "## at this point qubit a can be either 0 or 1\n",
    "## and qubit b can be either 1 or 0 depending on qubit a\n",
    "## possibilities: 01,10\n",
    "print(stater(qc))\n",
    "tripState = stater(qc)"
   ]
  },
  {
   "cell_type": "code",
   "execution_count": 5,
   "metadata": {},
   "outputs": [
    {
     "data": {
      "text/html": [
       "\n",
       "    <p>\n",
       "        <div id=\"content_15633755186189067\" style=\"position: absolute; z-index: 1;\">\n",
       "            <div id=\"cities_15633755186189067\"></div>\n",
       "        </div>\n",
       "    </p>\n",
       "    \n",
       "    <script>\n",
       "        requirejs.config({\n",
       "            paths: {\n",
       "                qVisualization: \"https://qvisualization.mybluemix.net/q-visualizations\"\n",
       "            }\n",
       "        });\n",
       "\n",
       "        require([\"qVisualization\"], function(qVisualizations) {\n",
       "            data = {\n",
       "                real: [[0.0, 0.0, 0.0, 0.0], [0.0, 0.5000000000000001, 0.5000000000000001, 0.0], [0.0, 0.5000000000000001, 0.5000000000000001, 0.0], [0.0, 0.0, 0.0, 0.0]],\n",
       "                titleReal: \"Real.[rho]\",\n",
       "                imaginary: [[0.0, 0.0, 0.0, 0.0], [0.0, 0.0, 0.0, 0.0], [0.0, 0.0, 0.0, 0.0], [0.0, 0.0, 0.0, 0.0]],\n",
       "                titleImaginary: \"Im.[rho]\",\n",
       "                qbits: 4\n",
       "            };\n",
       "            qVisualizations.plotState(\"cities_15633755186189067\",\n",
       "                                      \"cities\",\n",
       "                                      data,\n",
       "                                      {});\n",
       "        });\n",
       "    </script>\n",
       "    "
      ],
      "text/plain": [
       "<IPython.core.display.HTML object>"
      ]
     },
     "metadata": {},
     "output_type": "display_data"
    }
   ],
   "source": [
    "iplot_state_city(tripState)"
   ]
  },
  {
   "cell_type": "code",
   "execution_count": 6,
   "metadata": {},
   "outputs": [
    {
     "data": {
      "image/png": "[encoded data removed]",
      "text/plain": [
       "<Figure size 301x138.46 with 1 Axes>"
      ]
     },
     "execution_count": 6,
     "metadata": {},
     "output_type": "execute_result"
    }
   ],
   "source": [
    "qc.draw(output='mpl')\n",
    "# this is a maximally entangled system in a triplet state (T1)"
   ]
  },
  {
   "cell_type": "code",
   "execution_count": 7,
   "metadata": {},
   "outputs": [
    {
     "name": "stdout",
     "output_type": "stream",
     "text": [
      "[[ 0.   +0.j  0.707+0.j  0.   +0.j  0.707+0.j]\n",
      " [ 0.707+0.j  0.   +0.j  0.707+0.j  0.   +0.j]\n",
      " [ 0.707+0.j  0.   +0.j -0.707+0.j  0.   +0.j]\n",
      " [ 0.   +0.j  0.707+0.j  0.   +0.j -0.707+0.j]]\n"
     ]
    },
    {
     "data": {
      "image/png": "[encoded data removed]",
      "text/plain": [
       "<Figure size 541.8x258.86 with 1 Axes>"
      ]
     },
     "execution_count": 7,
     "metadata": {},
     "output_type": "execute_result"
    }
   ],
   "source": [
    "backend = Aer.get_backend('unitary_simulator')\n",
    "job = execute(qc, backend)\n",
    "result = job.result()\n",
    "print(result.get_unitary(qc, decimals=3))\n",
    "c0 = ClassicalRegister(1, 'c0')\n",
    "c1 = ClassicalRegister(1, 'c1')\n",
    "meas = QuantumCircuit(a,b,c0,c1)\n",
    "meas.draw(output='mpl')\n",
    "meas.measure(a,c0)\n",
    "meas.measure(b,c1)\n",
    "circ = qc+meas\n",
    "circ.draw(output='mpl')"
   ]
  },
  {
   "cell_type": "code",
   "execution_count": 8,
   "metadata": {},
   "outputs": [
    {
     "name": "stdout",
     "output_type": "stream",
     "text": [
      "{'1 0': 510, '0 1': 514}\n"
     ]
    }
   ],
   "source": [
    "backend_sim = Aer.get_backend('qasm_simulator')\n",
    "job_sim = execute(circ, backend_sim, shots=1024)\n",
    "result_sim = job_sim.result()\n",
    "counts = result_sim.get_counts(circ)\n",
    "print(counts)\n",
    "# there are always only two solutions: 10 and 01"
   ]
  },
  {
   "cell_type": "code",
   "execution_count": 9,
   "metadata": {},
   "outputs": [
    {
     "data": {
      "image/png": "[encoded data removed]",
      "text/plain": [
       "<Figure size 504x360 with 1 Axes>"
      ]
     },
     "execution_count": 9,
     "metadata": {},
     "output_type": "execute_result"
    }
   ],
   "source": [
    "plot_histogram(counts)"
   ]
  },
  {
   "cell_type": "code",
   "execution_count": 10,
   "metadata": {},
   "outputs": [],
   "source": [
    "def expectationValue(qc):\n",
    "    psi = stater(qc)\n",
    "    \n",
    "    a = QuantumRegister(2)\n",
    "    b = ClassicalRegister(2)\n",
    "    \n",
    "    # create a duplicate circuit flipped around the x axis (conjugate of the original)    \n",
    "    circX = deepcopy(qc)\n",
    "    circX.x(0)\n",
    "    circX.x(1)\n",
    "\n",
    "    # create a duplicate circuit flipped around the y axis (conjugate of the original)\n",
    "    circY = deepcopy(qc)\n",
    "    circY.y(0)\n",
    "    circY.y(1) \n",
    "    \n",
    "    # create a duplicate circuit flipped around the z axis (conjugate of the original)\n",
    "    circZ = deepcopy(qc)\n",
    "    circZ.z(0)\n",
    "    circZ.z(1)\n",
    "    \n",
    "    # the expectation value can be represented by 0.5(T1)(conjugate of T1)\n",
    "    # this can be expressed using matrix multiplication as well\n",
    "    # take the transpose of the original circuit's state vector and multiply it by the complex conjugate\n",
    "    print('Expectation Value X:', (np.transpose(psi)@stater(circX)).round(1))\n",
    "    print('Expectation Value Y:', (np.transpose(psi)@stater(circY)).round(1))\n",
    "    print('Expectation Value Z:', (np.transpose(psi)@stater(circZ)).round(1))"
   ]
  },
  {
   "cell_type": "code",
   "execution_count": 11,
   "metadata": {},
   "outputs": [
    {
     "name": "stdout",
     "output_type": "stream",
     "text": [
      "Expectation Value X: (1+0j)\n",
      "Expectation Value Y: (1+0j)\n",
      "Expectation Value Z: (-1+0j)\n"
     ]
    }
   ],
   "source": [
    "expectationValue(qc)"
   ]
  }
 ],
 "metadata": {
  "kernelspec": {
   "display_name": "Python 3",
   "language": "python",
   "name": "python3"
  },
  "language_info": {
   "codemirror_mode": {
    "name": "ipython",
    "version": 3
   },
   "file_extension": ".py",
   "mimetype": "text/x-python",
   "name": "python",
   "nbconvert_exporter": "python",
   "pygments_lexer": "ipython3",
   "version": "3.7.3"
  }
 },
 "nbformat": 4,
 "nbformat_minor": 2
}
