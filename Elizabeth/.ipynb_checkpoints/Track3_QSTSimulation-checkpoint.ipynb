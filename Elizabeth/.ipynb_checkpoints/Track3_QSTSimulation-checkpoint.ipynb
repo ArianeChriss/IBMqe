{
 "cells": [
  {
   "cell_type": "code",
   "execution_count": 1,
   "metadata": {},
   "outputs": [],
   "source": [
    "# Needed for functions\n",
    "import numpy as np\n",
    "import time\n",
    "from copy import deepcopy\n",
    "\n",
    "# Import Qiskit classes\n",
    "import qiskit \n",
    "from qiskit import QuantumRegister, QuantumCircuit, ClassicalRegister, Aer\n",
    "from qiskit.quantum_info import state_fidelity\n",
    "from qiskit.providers.aer import noise\n",
    "from qiskit.visualization import iplot_state_city\n",
    "\n",
    "# Tomography functions\n",
    "from qiskit.ignis.verification.tomography import state_tomography_circuits, StateTomographyFitter\n",
    "import qiskit.ignis.mitigation.measurement as mc"
   ]
  },
  {
   "cell_type": "code",
   "execution_count": 2,
   "metadata": {},
   "outputs": [
    {
     "name": "stdout",
     "output_type": "stream",
     "text": [
      "[0.70710678+0.j 0.        +0.j 0.        +0.j 0.70710678+0.j]\n"
     ]
    },
    {
     "data": {
      "image/png": "[encoded data removed]",
      "text/plain": [
       "<Figure size 301x138.46 with 1 Axes>"
      ]
     },
     "execution_count": 2,
     "metadata": {},
     "output_type": "execute_result"
    }
   ],
   "source": [
    "# Create the expected density matrix\n",
    "q2 = QuantumRegister(2)\n",
    "bell = QuantumCircuit(q2)\n",
    "bell.h(q2[0])\n",
    "bell.cx(q2[0], q2[1])\n",
    "\n",
    "job = qiskit.execute(bell, Aer.get_backend('statevector_simulator'))\n",
    "psi_bell = job.result().get_statevector(bell)\n",
    "print(psi_bell)\n",
    "bell.draw(output='mpl')"
   ]
  },
  {
   "cell_type": "code",
   "execution_count": 3,
   "metadata": {},
   "outputs": [
    {
     "data": {
      "image/png": "[encoded data removed]",
      "text/plain": [
       "<Figure size 301x379.26 with 1 Axes>"
      ]
     },
     "execution_count": 3,
     "metadata": {},
     "output_type": "execute_result"
    }
   ],
   "source": [
    "# Create the actual circuit \n",
    "q2 = QuantumRegister(6)\n",
    "bell = QuantumCircuit(q2)\n",
    "bell.h(q2[3])\n",
    "bell.cx(q2[3], q2[5])\n",
    "bell.draw(output='mpl')"
   ]
  },
  {
   "cell_type": "code",
   "execution_count": 4,
   "metadata": {},
   "outputs": [
    {
     "name": "stdout",
     "output_type": "stream",
     "text": [
      "Time taken: 0.129652738571167\n"
     ]
    }
   ],
   "source": [
    "# Generate circuits and run on simulator\n",
    "t = time.time()\n",
    "# Generate the state tomography circuits. Only pass in the \n",
    "# registers we want to measure (in this case 3 and 5)\n",
    "qst_bell = state_tomography_circuits(bell, [q2[3],q2[5]])\n",
    "job = qiskit.execute(qst_bell, Aer.get_backend('qasm_simulator'), shots=5000)\n",
    "print('Time taken:', time.time() - t)\n",
    "\n",
    "tomo_bell = StateTomographyFitter(job.result(), qst_bell)"
   ]
  },
  {
   "cell_type": "code",
   "execution_count": 5,
   "metadata": {},
   "outputs": [
    {
     "name": "stdout",
     "output_type": "stream",
     "text": [
      "Fit Fidelity = 0.9935817185732917\n"
     ]
    }
   ],
   "source": [
    "# Perform the tomography fit\n",
    "# which outputs a density matrix\n",
    "rho_bell = tomo_bell.fit()\n",
    "F_bell = state_fidelity(psi_bell, rho_bell)\n",
    "print('Fit Fidelity =', F_bell)"
   ]
  },
  {
   "cell_type": "code",
   "execution_count": 6,
   "metadata": {},
   "outputs": [
    {
     "name": "stdout",
     "output_type": "stream",
     "text": [
      "Fit Fidelity (no correction) = 0.5703062072980181\n",
      "Fit Fidelity (w/ correction) = 0.9918367917570319\n"
     ]
    }
   ],
   "source": [
    "#Add measurement noise\n",
    "noise_model = noise.NoiseModel()\n",
    "for qi in range(6):\n",
    "    read_err = noise.errors.readout_error.ReadoutError([[0.75, 0.25],[0.1,0.9]])\n",
    "    noise_model.add_readout_error(read_err,[qi])\n",
    "    \n",
    "#generate the calibration circuits\n",
    "meas_calibs, state_labels = mc.complete_meas_cal(qubit_list=[3,5])\n",
    "\n",
    "backend = Aer.get_backend('qasm_simulator')\n",
    "job_cal = qiskit.execute(meas_calibs, backend=backend, shots=15000, noise_model=noise_model)\n",
    "job_tomo = qiskit.execute(qst_bell, backend=backend, shots=15000, noise_model=noise_model)\n",
    "\n",
    "meas_fitter = mc.CompleteMeasFitter(job_cal.result(),state_labels)\n",
    "\n",
    "tomo_bell = StateTomographyFitter(job_tomo.result(), qst_bell)\n",
    "\n",
    "#no correction\n",
    "rho_bell = tomo_bell.fit()\n",
    "F_bell = state_fidelity(psi_bell, rho_bell)\n",
    "print('Fit Fidelity (no correction) =', F_bell)\n",
    "\n",
    "#correct data\n",
    "correct_tomo_results = meas_fitter.filter.apply(job_tomo.result(), method='least_squares')\n",
    "tomo_bell = StateTomographyFitter(correct_tomo_results, qst_bell)\n",
    "rho_bell = tomo_bell.fit()\n",
    "F_bell = state_fidelity(psi_bell, rho_bell)\n",
    "print('Fit Fidelity (w/ correction) =', F_bell)"
   ]
  },
  {
   "cell_type": "code",
   "execution_count": 7,
   "metadata": {},
   "outputs": [
    {
     "name": "stdout",
     "output_type": "stream",
     "text": [
      "Time taken: 5.0265889167785645\n"
     ]
    }
   ],
   "source": [
    "# Create a state preparation circuit\n",
    "q5 = QuantumRegister(5)\n",
    "bell5 = QuantumCircuit(q5)\n",
    "bell5.h(q5[0])\n",
    "for j in range(4):\n",
    "    bell5.cx(q5[j], q5[j + 1])\n",
    "\n",
    "# Get ideal output state\n",
    "job = qiskit.execute(bell5, Aer.get_backend('statevector_simulator'))\n",
    "psi_bell5 = job.result().get_statevector(bell5)\n",
    "\n",
    "# Generate circuits and run on simulator\n",
    "t = time.time()\n",
    "qst_bell5 = state_tomography_circuits(bell5, q5)\n",
    "job = qiskit.execute(qst_bell5, Aer.get_backend('qasm_simulator'), shots=5000)\n",
    "\n",
    "# Extract tomography data so that counts are indexed by measurement configuration\n",
    "tomo_bell5 = StateTomographyFitter(job.result(), qst_bell5)\n",
    "print('Time taken:', time.time() - t)"
   ]
  },
  {
   "cell_type": "code",
   "execution_count": 8,
   "metadata": {},
   "outputs": [
    {
     "name": "stdout",
     "output_type": "stream",
     "text": [
      "Least-Sq Reconstruction\n",
      "Time taken: 2.7007739543914795\n",
      "Fit Fidelity: 0.993317047857676\n"
     ]
    }
   ],
   "source": [
    "t = time.time()\n",
    "rho_lstsq_bell5 = tomo_bell5.fit(method='lstsq')\n",
    "print('Least-Sq Reconstruction')\n",
    "print('Time taken:', time.time() - t)\n",
    "print('Fit Fidelity:', state_fidelity(psi_bell5, rho_lstsq_bell5))"
   ]
  },
  {
   "cell_type": "code",
   "execution_count": 9,
   "metadata": {},
   "outputs": [
    {
     "data": {
      "image/png": "[encoded data removed]",
      "text/plain": [
       "<Figure size 421.4x198.66 with 1 Axes>"
      ]
     },
     "execution_count": 9,
     "metadata": {},
     "output_type": "execute_result"
    }
   ],
   "source": [
    "# Create the actual circuit \n",
    "q2 = QuantumRegister(3)\n",
    "ghz = QuantumCircuit(q2)\n",
    "ghz.h(q2[0])\n",
    "ghz.cx(q2[0], q2[1])\n",
    "ghz.cx(q2[1], q2[2])\n",
    "ghz.h(q2[2])\n",
    "ghz.draw(output='mpl')"
   ]
  },
  {
   "cell_type": "code",
   "execution_count": 10,
   "metadata": {},
   "outputs": [
    {
     "data": {
      "image/png": "[encoded data removed]",
      "text/plain": [
       "<Figure size 782.6x319.06 with 1 Axes>"
      ]
     },
     "execution_count": 10,
     "metadata": {},
     "output_type": "execute_result"
    }
   ],
   "source": [
    "qst_ghz = state_tomography_circuits(ghz, [q2[0],q2[1]])\n",
    "qst_ghz[0].draw(output='mpl')"
   ]
  },
  {
   "cell_type": "code",
   "execution_count": 11,
   "metadata": {},
   "outputs": [],
   "source": [
    "#Make a copy without the ancilla register\n",
    "qst_ghz_no_anc = deepcopy(qst_ghz)\n",
    "ca = ClassicalRegister(1)\n",
    "for qst_ghz_circ in qst_ghz:\n",
    "    qst_ghz_circ.add_register(ca)\n",
    "    qst_ghz_circ.measure(q2[2],ca[0])"
   ]
  },
  {
   "cell_type": "code",
   "execution_count": 12,
   "metadata": {},
   "outputs": [],
   "source": [
    "#Run in Aer\n",
    "job = qiskit.execute(qst_ghz, Aer.get_backend('qasm_simulator'), shots=10000)\n",
    "raw_results = job.result()"
   ]
  },
  {
   "cell_type": "code",
   "execution_count": 13,
   "metadata": {},
   "outputs": [],
   "source": [
    "new_result = deepcopy(raw_results)\n",
    "\n",
    "for resultidx, _ in enumerate(raw_results.results):\n",
    "    old_counts = raw_results.get_counts(resultidx)\n",
    "    new_counts = {}\n",
    "    \n",
    "    #change the size of the classical register\n",
    "    new_result.results[resultidx].header.creg_sizes = [new_result.results[resultidx].header.creg_sizes[0]]\n",
    "    new_result.results[resultidx].header.clbit_labels = new_result.results[resultidx].header.clbit_labels[0:-1]\n",
    "    new_result.results[resultidx].header.memory_slots = 2\n",
    "    \n",
    "    for reg_key in old_counts:\n",
    "        reg_bits = reg_key.split(' ')\n",
    "        if reg_bits[0]=='1':\n",
    "            new_counts[reg_bits[1]]=old_counts[reg_key]\n",
    "\n",
    "    new_result.results[resultidx].data.counts = \\\n",
    "        new_result.results[resultidx]. \\\n",
    "        data.counts.from_dict(new_counts)"
   ]
  },
  {
   "cell_type": "code",
   "execution_count": 14,
   "metadata": {},
   "outputs": [],
   "source": [
    "tomo_bell = StateTomographyFitter(new_result, qst_ghz_no_anc)\n",
    "# Perform the tomography fit\n",
    "# which outputs a density matrix\n",
    "rho_bell = tomo_bell.fit()"
   ]
  },
  {
   "cell_type": "code",
   "execution_count": 15,
   "metadata": {},
   "outputs": [
    {
     "data": {
      "text/plain": [
       "array([[ 0.502+0.j   ,  0.003-0.002j,  0.002+0.007j, -0.497+0.002j],\n",
       "       [ 0.003+0.002j,  0.002+0.j   ,  0.   -0.002j, -0.005-0.004j],\n",
       "       [ 0.002-0.007j,  0.   +0.002j,  0.002+0.j   , -0.   +0.006j],\n",
       "       [-0.497-0.002j, -0.005+0.004j, -0.   -0.006j,  0.495+0.j   ]])"
      ]
     },
     "execution_count": 15,
     "metadata": {},
     "output_type": "execute_result"
    }
   ],
   "source": [
    "np.around(rho_bell,3)"
   ]
  },
  {
   "cell_type": "code",
   "execution_count": 17,
   "metadata": {},
   "outputs": [
    {
     "data": {
      "text/html": [
       "\n",
       "    <p>\n",
       "        <div id=\"content_15645872279965513\" style=\"position: absolute; z-index: 1;\">\n",
       "            <div id=\"cities_15645872279965513\"></div>\n",
       "        </div>\n",
       "    </p>\n",
       "    \n",
       "    <script>\n",
       "        requirejs.config({\n",
       "            paths: {\n",
       "                qVisualization: \"https://qvisualization.mybluemix.net/q-visualizations\"\n",
       "            }\n",
       "        });\n",
       "\n",
       "        require([\"qVisualization\"], function(qVisualizations) {\n",
       "            data = {\n",
       "                real: [[0.502, 0.003, 0.002, -0.497], [0.003, 0.002, 0.0, -0.005], [0.002, 0.0, 0.002, -0.0], [-0.497, -0.005, -0.0, 0.495]],\n",
       "                titleReal: \"Real.[rho]\",\n",
       "                imaginary: [[0.0, -0.002, 0.007, 0.002], [0.002, 0.0, -0.002, -0.004], [-0.007, 0.002, 0.0, 0.006], [-0.002, 0.004, -0.006, 0.0]],\n",
       "                titleImaginary: \"Im.[rho]\",\n",
       "                qbits: 4\n",
       "            };\n",
       "            qVisualizations.plotState(\"cities_15645872279965513\",\n",
       "                                      \"cities\",\n",
       "                                      data,\n",
       "                                      {});\n",
       "        });\n",
       "    </script>\n",
       "    "
      ],
      "text/plain": [
       "<IPython.core.display.HTML object>"
      ]
     },
     "metadata": {},
     "output_type": "display_data"
    }
   ],
   "source": [
    "iplot_state_city(np.around(rho_bell,3))"
   ]
  },
  {
   "cell_type": "code",
   "execution_count": null,
   "metadata": {},
   "outputs": [],
   "source": []
  }
 ],
 "metadata": {
  "kernelspec": {
   "display_name": "Python 3",
   "language": "python",
   "name": "python3"
  },
  "language_info": {
   "codemirror_mode": {
    "name": "ipython",
    "version": 3
   },
   "file_extension": ".py",
   "mimetype": "text/x-python",
   "name": "python",
   "nbconvert_exporter": "python",
   "pygments_lexer": "ipython3",
   "version": "3.7.3"
  }
 },
 "nbformat": 4,
 "nbformat_minor": 2
}
