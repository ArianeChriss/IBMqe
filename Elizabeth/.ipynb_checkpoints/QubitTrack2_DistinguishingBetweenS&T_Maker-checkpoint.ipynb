{
 "cells": [
  {
   "cell_type": "markdown",
   "metadata": {},
   "source": [
    "$\\newcommand{\\ket}[1]{\\left|{#1}\\right\\rangle}\n",
    "\\newcommand{\\bra}[1]{\\left\\langle{#1}\\right|}$\n",
    "<body>\n",
    "    <div>\n",
    "        <tr><h1>\n",
    "        <b><font face=\"Verdana\">Distinguishing Between a Singlet and Triplet 0 State</font></b>\n",
    "        </h1></tr>\n",
    "        <p>\n",
    "            In this program we will be distinguishing between a singlet and a triplet 0 state using only one shot, unlike the previous programs where we could run the circuit as many times as we wanted. We can do this by understanding the difference between a triplet and singlet state.\n",
    "        </p>\n",
    "        <p>\n",
    "            A singlet state is a triplet state with a 180° phase shift and vice versa. So, we are trying to determine whether a circuit is left on the +x or -x axis. We can write a function that will create either singlet or triplet states.\n",
    "        </p>\n",
    "    </div>\n",
    "</body>"
   ]
  },
  {
   "cell_type": "code",
   "execution_count": 1,
   "metadata": {},
   "outputs": [],
   "source": [
    "import numpy as np\n",
    "from qiskit import *\n",
    "from qiskit.visualization import plot_histogram, iplot_state_city\n",
    "from qiskit.quantum_info import Pauli, state_fidelity, basis_state, process_fidelity\n",
    "from math import pi"
   ]
  },
  {
   "cell_type": "markdown",
   "metadata": {},
   "source": [
    "<p>First we will create a circuit that contains an h gate on the first qubit and a cx gate going from the first to the second qubit. This will give us the possibilities of 00 or 11 when we convert to classical bits.</p>\n",
    "<p>We will then reset the first qubit such that no matter its value, it will return to a state of 0. We will also take a measurement of 1 shot of qubit b so it will return a 0 or 1. Thus, the possibilities are now 00 and 01.</p>\n",
    "<p>The remainder of the circuit is our code for the triplet state. Interestingly, as long as we have the phase shift somewhere in the code, the singlet state and triplet state are nearly identical. If we start out with 00 from this point forward in the code, a triplet state is created. However, if we start with 01, a singlet state is created.</p>\n",
    "<p> So, if we take one measurement after the first cx gate on qubit b, the state is a triplet state if it returns 0 and a singlet state if it returns 1.</p>"
   ]
  },
  {
   "cell_type": "code",
   "execution_count": 2,
   "metadata": {
    "scrolled": true
   },
   "outputs": [],
   "source": [
    "def singOrTripMaker():\n",
    "    a = QuantumRegister(2)\n",
    "    b = ClassicalRegister(2)\n",
    "    st = QuantumCircuit(a,b)\n",
    "\n",
    "    st.h(a[0])\n",
    "    st.cx(a[0],a[1])\n",
    "    st.reset(a[0])\n",
    "    st.measure(a[1],b[1])\n",
    "\n",
    "    shots = 1\n",
    "    job = execute(st, backend = Aer.get_backend('qasm_simulator'), shots = shots)\n",
    "    counts = job.result().get_counts(st)\n",
    "    print(counts)\n",
    "\n",
    "    st.x(a[0])\n",
    "    st.h(a[1])\n",
    "    st.cx(a[1],a[0])\n",
    "\n",
    "\n",
    "    if '00' in counts:\n",
    "        print('Triplet State')\n",
    "    else:\n",
    "        print('Singlet State')\n",
    "    st.draw(output='mpl')"
   ]
  },
  {
   "cell_type": "code",
   "execution_count": 3,
   "metadata": {},
   "outputs": [
    {
     "name": "stdout",
     "output_type": "stream",
     "text": [
      "{'10': 1}\n",
      "Singlet State\n",
      "{'00': 1}\n",
      "Triplet State\n",
      "{'10': 1}\n",
      "Singlet State\n",
      "{'00': 1}\n",
      "Triplet State\n",
      "{'10': 1}\n",
      "Singlet State\n"
     ]
    }
   ],
   "source": [
    "for x in range(5):\n",
    "    singOrTripMaker()"
   ]
  }
 ],
 "metadata": {
  "kernelspec": {
   "display_name": "Python 3",
   "language": "python",
   "name": "python3"
  },
  "language_info": {
   "codemirror_mode": {
    "name": "ipython",
    "version": 3
   },
   "file_extension": ".py",
   "mimetype": "text/x-python",
   "name": "python",
   "nbconvert_exporter": "python",
   "pygments_lexer": "ipython3",
   "version": "3.7.3"
  }
 },
 "nbformat": 4,
 "nbformat_minor": 2
}
