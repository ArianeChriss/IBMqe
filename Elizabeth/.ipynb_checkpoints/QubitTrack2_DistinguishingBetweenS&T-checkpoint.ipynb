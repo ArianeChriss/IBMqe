{
 "cells": [
  {
   "cell_type": "markdown",
   "metadata": {},
   "source": [
    "$\\newcommand{\\ket}[1]{\\left|{#1}\\right\\rangle}\n",
    "\\newcommand{\\bra}[1]{\\left\\langle{#1}\\right|}$\n",
    "<body>\n",
    "    <div>\n",
    "        <tr><h1>\n",
    "        <b><font face=\"Verdana\">Distinguishing Between a Singlet and Triplet 0 State</font></b>\n",
    "        </h1></tr>\n",
    "        <p>\n",
    "            After we created our singlet and triplet 0 states, we calculated the expectation values of some of the operators. In the singlet state, we solved for $\\sigma_x$$\\tau_y$ to show that the two operators have no correlation. In the $T_1$ state, we solved for $\\sigma_x$$\\tau_x$, $\\sigma_y$$\\tau_y$, and $\\sigma_z$$\\tau_z$.<br> Using these expectation values we can determine whether a black box circuit is in a singlet state or triplet 0 state.\n",
    "        </p>\n",
    "    </div>\n",
    "</body>"
   ]
  },
  {
   "cell_type": "code",
   "execution_count": 1,
   "metadata": {},
   "outputs": [],
   "source": [
    "import numpy as np\n",
    "from qiskit import *\n",
    "from qiskit.visualization import plot_histogram, iplot_state_city\n",
    "from qiskit.quantum_info import Pauli, state_fidelity, basis_state, process_fidelity\n",
    "from math import pi"
   ]
  },
  {
   "cell_type": "code",
   "execution_count": 5,
   "metadata": {
    "scrolled": true
   },
   "outputs": [],
   "source": [
    "def singOrTrip():\n",
    "    a = QuantumRegister(2)\n",
    "    b = ClassicalRegister(2)\n",
    "    st = QuantumCircuit(a,b)\n",
    "\n",
    "    st.h(a[0])\n",
    "    st.cx(a[0],a[1])\n",
    "    st.reset(a[0])\n",
    "    st.measure(a[1],b[1])\n",
    "\n",
    "    shots = 1\n",
    "    job = execute(st, backend = Aer.get_backend('qasm_simulator'), shots = shots)\n",
    "    counts = job.result().get_counts(st)\n",
    "    print(counts)\n",
    "\n",
    "    st.x(a[0])\n",
    "    st.h(a[1])\n",
    "    st.cx(a[1],a[0])\n",
    "    print(st)\n",
    "\n",
    "\n",
    "    if '00' in counts:\n",
    "        print('Triplet State')\n",
    "    else:\n",
    "        print('Singlet State')\n",
    "    st.draw(output='mpl')"
   ]
  },
  {
   "cell_type": "code",
   "execution_count": 8,
   "metadata": {},
   "outputs": [
    {
     "name": "stdout",
     "output_type": "stream",
     "text": [
      "{'00': 1}\n",
      "         ┌───┐          ┌───┐┌───┐\n",
      "q5_0: |0>┤ H ├──■───|0>─┤ X ├┤ X ├\n",
      "         └───┘┌─┴─┐ ┌─┐ ├───┤└─┬─┘\n",
      "q5_1: |0>─────┤ X ├─┤M├─┤ H ├──■──\n",
      "              └───┘ └╥┘ └───┘     \n",
      " c5_0: 0 ════════════╬════════════\n",
      "                     ║            \n",
      " c5_1: 0 ════════════╩════════════\n",
      "                                  \n",
      "Triplet State\n",
      "{'10': 1}\n",
      "         ┌───┐          ┌───┐┌───┐\n",
      "q6_0: |0>┤ H ├──■───|0>─┤ X ├┤ X ├\n",
      "         └───┘┌─┴─┐ ┌─┐ ├───┤└─┬─┘\n",
      "q6_1: |0>─────┤ X ├─┤M├─┤ H ├──■──\n",
      "              └───┘ └╥┘ └───┘     \n",
      " c6_0: 0 ════════════╬════════════\n",
      "                     ║            \n",
      " c6_1: 0 ════════════╩════════════\n",
      "                                  \n",
      "Singlet State\n"
     ]
    }
   ],
   "source": [
    "singOrTrip()\n",
    "singOrTrip()"
   ]
  }
 ],
 "metadata": {
  "kernelspec": {
   "display_name": "Python 3",
   "language": "python",
   "name": "python3"
  },
  "language_info": {
   "codemirror_mode": {
    "name": "ipython",
    "version": 3
   },
   "file_extension": ".py",
   "mimetype": "text/x-python",
   "name": "python",
   "nbconvert_exporter": "python",
   "pygments_lexer": "ipython3",
   "version": "3.7.3"
  }
 },
 "nbformat": 4,
 "nbformat_minor": 2
}
