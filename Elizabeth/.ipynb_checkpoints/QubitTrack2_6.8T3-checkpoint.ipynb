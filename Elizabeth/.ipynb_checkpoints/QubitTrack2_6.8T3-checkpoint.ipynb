{
 "cells": [
  {
   "cell_type": "markdown",
   "metadata": {},
   "source": [
    "$\\newcommand{\\ket}[1]{\\left|{#1}\\right\\rangle}\n",
    "\\newcommand{\\bra}[1]{\\left\\langle{#1}\\right|}$\n",
    "<body>\n",
    "    <div>\n",
    "        <tr><h1>\n",
    "            <b><font face=\"Verdana\">Exercise 6.8 ($T_3$):</font></b>\n",
    "        </h1></tr>\n",
    "        <p>\n",
    "            Do the same for other entangled triplet states,\n",
    "        </p>\n",
    "        <p><center>\n",
    "            $\\ket{T_2}$ = ($\\frac{1}{\\sqrt{2}}$)( $\\ket{uu}$ + $\\ket{dd}$)<br>\n",
    "            $\\ket{T_3}$ = ($\\frac{1}{\\sqrt{2}}$)( $\\ket{uu}$ - $\\ket{dd}$)\n",
    "        </center></p>\n",
    "        <p>\n",
    "            and interpret.\n",
    "        </p>\n",
    "    </div>\n",
    "</body>"
   ]
  },
  {
   "cell_type": "code",
   "execution_count": 1,
   "metadata": {},
   "outputs": [],
   "source": [
    "import numpy as np\n",
    "from qiskit import *\n",
    "from copy import *\n",
    "from qiskit.visualization import plot_histogram, iplot_state_city\n",
    "from qiskit.quantum_info import Pauli, state_fidelity, basis_state, process_fidelity\n",
    "from math import *"
   ]
  },
  {
   "cell_type": "code",
   "execution_count": 2,
   "metadata": {},
   "outputs": [],
   "source": [
    "## this function is used as a simple way to calculate the state vector of a circuit qc\n",
    "def stater(qc):\n",
    "    backend_sim = BasicAer.get_backend('statevector_simulator')\n",
    "    result = execute(qc, backend_sim).result()\n",
    "    state = result.get_statevector(qc)\n",
    "    return state"
   ]
  },
  {
   "cell_type": "markdown",
   "metadata": {},
   "source": [
    "First we must create a triplet state using a circuit of two qubits."
   ]
  },
  {
   "cell_type": "code",
   "execution_count": 3,
   "metadata": {},
   "outputs": [],
   "source": [
    "a = QuantumRegister(1, 'a')\n",
    "b = QuantumRegister(1, 'b')\n",
    "qc = QuantumCircuit(a,b)"
   ]
  },
  {
   "cell_type": "markdown",
   "metadata": {},
   "source": [
    "The following code lists out the different gates used in the circuit to connect them in a triplet state.\n",
    "\n",
    "The simulator represents the four values of a given state vector and so we can see how the matrix of values would change after each new gate is added.\n",
    "\n",
    "Possibilities represents the classical bits that could result after each new gate is added."
   ]
  },
  {
   "cell_type": "code",
   "execution_count": 4,
   "metadata": {
    "scrolled": true
   },
   "outputs": [
    {
     "name": "stdout",
     "output_type": "stream",
     "text": [
      "Original:\n",
      "[1.+0.j 0.+0.j 0.+0.j 0.+0.j]\n",
      "1\n",
      "[0.70710678+0.j 0.70710678+0.j 0.        +0.j 0.        +0.j]\n",
      "2\n",
      "[0.70710678+0.j 0.        +0.j 0.        +0.j 0.70710678+0.j]\n",
      "State Vector:\n",
      "[ 0.70710678+0.j  0.        +0.j  0.        +0.j -0.70710678+0.j]\n"
     ]
    }
   ],
   "source": [
    "print('Original:')\n",
    "print(stater(qc))\n",
    "# insert a h gate on qubit a\n",
    "qc.h(a)\n",
    "print(1)\n",
    "print(stater(qc))\n",
    "## simulator: (0.7)(0.7)00\n",
    "# insert a cx gate from qubit a to qubit b\n",
    "qc.cx(a,b)\n",
    "print(2)\n",
    "print(stater(qc))\n",
    "## simulator: (0.7)00(0.7)\n",
    "## at this point qubit a can be either 0 or 1\n",
    "## and qubit b can be either 0 or 1 depending on qubit a\n",
    "## possibilities: 00,11\n",
    "# insert a z gate on qubit b\n",
    "qc.z(b)\n",
    "print('State Vector:')\n",
    "## simulator: (0.7)00(-0.7)\n",
    "## at this point qubit a can be either 1 or 0\n",
    "## and qubit b can be either 1 or 0 in a negative superposition\n",
    "## possibilities: 00,11\n",
    "print(stater(qc))\n",
    "tripState = stater(qc)"
   ]
  },
  {
   "cell_type": "markdown",
   "metadata": {},
   "source": [
    "<p>In summary, this circuit is made up of two qubits. An h gate is used on the first qubit, qubit a.<br>\n",
    "Then, a cx gate is used to connect qubit a to the second qubit, qubit b.<br>\n",
    "Finally, a z gate is used on qubit b to give us our final state.</p>"
   ]
  },
  {
   "cell_type": "code",
   "execution_count": 5,
   "metadata": {},
   "outputs": [
    {
     "data": {
      "text/html": [
       "\n",
       "    <p>\n",
       "        <div id=\"content_15633986690280607\" style=\"position: absolute; z-index: 1;\">\n",
       "            <div id=\"cities_15633986690280607\"></div>\n",
       "        </div>\n",
       "    </p>\n",
       "    \n",
       "    <script>\n",
       "        requirejs.config({\n",
       "            paths: {\n",
       "                qVisualization: \"https://qvisualization.mybluemix.net/q-visualizations\"\n",
       "            }\n",
       "        });\n",
       "\n",
       "        require([\"qVisualization\"], function(qVisualizations) {\n",
       "            data = {\n",
       "                real: [[0.5000000000000001, 0.0, 0.0, -0.5000000000000001], [0.0, 0.0, 0.0, 0.0], [0.0, 0.0, 0.0, 0.0], [-0.5000000000000001, 0.0, 0.0, 0.5000000000000001]],\n",
       "                titleReal: \"Real.[rho]\",\n",
       "                imaginary: [[0.0, 0.0, 0.0, -0.0], [0.0, 0.0, 0.0, -0.0], [0.0, 0.0, 0.0, -0.0], [0.0, 0.0, 0.0, 0.0]],\n",
       "                titleImaginary: \"Im.[rho]\",\n",
       "                qbits: 4\n",
       "            };\n",
       "            qVisualizations.plotState(\"cities_15633986690280607\",\n",
       "                                      \"cities\",\n",
       "                                      data,\n",
       "                                      {});\n",
       "        });\n",
       "    </script>\n",
       "    "
      ],
      "text/plain": [
       "<IPython.core.display.HTML object>"
      ]
     },
     "metadata": {},
     "output_type": "display_data"
    }
   ],
   "source": [
    "iplot_state_city(tripState)"
   ]
  },
  {
   "cell_type": "markdown",
   "metadata": {},
   "source": [
    "This diagram represents the density matrix of the state vector. You can see here that only the combinations of $\\ket{00}$ and $\\ket{11}$ have block representations rather than flat squares. However, unlike $T_2$ two of the blocks are found on the negative side of the graph."
   ]
  },
  {
   "cell_type": "code",
   "execution_count": 6,
   "metadata": {},
   "outputs": [
    {
     "data": {
      "image/png": "[encoded data removed]",
      "text/plain": [
       "<Figure size 361.2x138.46 with 1 Axes>"
      ]
     },
     "execution_count": 6,
     "metadata": {},
     "output_type": "execute_result"
    }
   ],
   "source": [
    "qc.draw(output='mpl')\n",
    "# this is a maximally entangled system in a triplet state (T3)"
   ]
  },
  {
   "cell_type": "code",
   "execution_count": 7,
   "metadata": {},
   "outputs": [
    {
     "name": "stdout",
     "output_type": "stream",
     "text": [
      "[[ 0.707+0.j  0.707+0.j  0.   +0.j  0.   +0.j]\n",
      " [ 0.   +0.j  0.   +0.j  0.707+0.j -0.707+0.j]\n",
      " [ 0.   +0.j  0.   +0.j -0.707+0.j -0.707+0.j]\n",
      " [-0.707+0.j  0.707+0.j  0.   +0.j  0.   +0.j]]\n"
     ]
    },
    {
     "data": {
      "image/png": "[encoded data removed]",
      "text/plain": [
       "<Figure size 602x258.86 with 1 Axes>"
      ]
     },
     "execution_count": 7,
     "metadata": {},
     "output_type": "execute_result"
    }
   ],
   "source": [
    "backend = Aer.get_backend('unitary_simulator')\n",
    "job = execute(qc, backend)\n",
    "result = job.result()\n",
    "print(result.get_unitary(qc, decimals=3))\n",
    "c0 = ClassicalRegister(1, 'c0')\n",
    "c1 = ClassicalRegister(1, 'c1')\n",
    "meas = QuantumCircuit(a,b,c0,c1)\n",
    "meas.draw(output='mpl')\n",
    "meas.measure(a,c0)\n",
    "meas.measure(b,c1)\n",
    "circ = qc+meas\n",
    "circ.draw(output='mpl')"
   ]
  },
  {
   "cell_type": "code",
   "execution_count": 8,
   "metadata": {},
   "outputs": [
    {
     "name": "stdout",
     "output_type": "stream",
     "text": [
      "{'0 0': 510, '1 1': 514}\n"
     ]
    }
   ],
   "source": [
    "backend_sim = Aer.get_backend('qasm_simulator')\n",
    "job_sim = execute(circ, backend_sim, shots=1024)\n",
    "result_sim = job_sim.result()\n",
    "counts = result_sim.get_counts(circ)\n",
    "print(counts)\n",
    "# there are always only two solutions: 11 and 00"
   ]
  },
  {
   "cell_type": "markdown",
   "metadata": {},
   "source": [
    "As shown by the simulator and histogram, only $\\ket{11}$ and $\\ket{00}$ are possibilities for this circuit. This partially verifies that the circuit is in a triplet state."
   ]
  },
  {
   "cell_type": "code",
   "execution_count": 9,
   "metadata": {},
   "outputs": [
    {
     "data": {
      "image/png": "[encoded data removed]",
      "text/plain": [
       "<Figure size 504x360 with 1 Axes>"
      ]
     },
     "execution_count": 9,
     "metadata": {},
     "output_type": "execute_result"
    }
   ],
   "source": [
    "plot_histogram(counts)"
   ]
  },
  {
   "cell_type": "markdown",
   "metadata": {},
   "source": [
    "<p>To find the expectation value of the operators, you can do it by hand or using qiskit:</p>\n",
    "<p>Find the expectation value of $\\sigma_z$$\\tau_z$.</p>\n",
    "\n",
    "<p><center>$\\sigma_z$$\\tau_z$$\\ket{T_3}$ = $\\sigma_z$$\\tau_z$($\\frac{1}{\\sqrt{2}}$)( $\\ket{uu}$ - $\\ket{dd}$)<br>\n",
    "           = $\\tau_z$($\\frac{1}{\\sqrt{2}}$)( $\\ket{uu}$ + $\\ket{dd}$)<br>\n",
    "           = ($\\frac{1}{\\sqrt{2}}$)( $\\ket{uu}$ - $\\ket{dd}$)\n",
    "</center> </p>          \n",
    "If we square the equation and multiply the complex conjugate by the original equation, it becomes:\n",
    "<p><center>= $\\frac{1}{2}$( $\\ket{uu}$ - $\\ket{dd}$)( $\\ket{uu}$ - $\\ket{dd}$)<br>\n",
    "           = $\\frac{1}{2}$(1+1)<br>\n",
    "           = 1</center></p>\n",
    "So the expectation value of $\\sigma_z$$\\tau_z$ is 1."
   ]
  },
  {
   "cell_type": "markdown",
   "metadata": {},
   "source": [
    "Qiskit can also model the expectation values using matrices.\n",
    "\n",
    "First, three new circuits were created in order to change each component x,y, and z. Each circuit is made up of the original circuit qc plus either an x,y, or z gate for each respective component.\n",
    "\n",
    "The state vector for this circuit is determined at the end of the function as a factor in the matrix multiplication. It is not stored as a value, but represents the complex conjugate of the state vector of our original state vector called original.\n",
    "\n",
    "The expectation value can be calculated by taking the transpose of original and multiplying it by the state vector of x(and y,z)_circuit.\n",
    "\n",
    "This will give you an expectation value of 1 for z and y as well as a value of -1 for x."
   ]
  },
  {
   "cell_type": "code",
   "execution_count": 10,
   "metadata": {},
   "outputs": [],
   "source": [
    "def expectationValue(qc):\n",
    "    original = stater(qc)\n",
    "    \n",
    "    a = QuantumRegister(2)\n",
    "    b = ClassicalRegister(2)\n",
    "    \n",
    "    # create a duplicate circuit flipped around the x axis (conjugate of the original)    \n",
    "    x_circuit = deepcopy(qc)\n",
    "    x_circuit.x(0)\n",
    "    x_circuit.x(1)\n",
    "\n",
    "    # create a duplicate circuit flipped around the y axis (conjugate of the original)\n",
    "    y_circuit = deepcopy(qc)\n",
    "    y_circuit.y(0)\n",
    "    y_circuit.y(1) \n",
    "    \n",
    "    # create a duplicate circuit flipped around the z axis (conjugate of the original)\n",
    "    z_circuit = deepcopy(qc)\n",
    "    z_circuit.z(0)\n",
    "    z_circuit.z(1)\n",
    "    \n",
    "    \n",
    "    print('Expectation Value X:', (np.transpose(original)@stater(x_circuit)).round(1))\n",
    "    print('Expectation Value Y:', (np.transpose(original)@stater(y_circuit)).round(1))\n",
    "    print('Expectation Value Z:', (np.transpose(original)@stater(z_circuit)).round(1))"
   ]
  },
  {
   "cell_type": "code",
   "execution_count": 11,
   "metadata": {},
   "outputs": [
    {
     "name": "stdout",
     "output_type": "stream",
     "text": [
      "Expectation Value X: (-1+0j)\n",
      "Expectation Value Y: (1+0j)\n",
      "Expectation Value Z: (1+0j)\n"
     ]
    }
   ],
   "source": [
    "expectationValue(qc)"
   ]
  }
 ],
 "metadata": {
  "kernelspec": {
   "display_name": "Python 3",
   "language": "python",
   "name": "python3"
  },
  "language_info": {
   "codemirror_mode": {
    "name": "ipython",
    "version": 3
   },
   "file_extension": ".py",
   "mimetype": "text/x-python",
   "name": "python",
   "nbconvert_exporter": "python",
   "pygments_lexer": "ipython3",
   "version": "3.7.3"
  }
 },
 "nbformat": 4,
 "nbformat_minor": 2
}
