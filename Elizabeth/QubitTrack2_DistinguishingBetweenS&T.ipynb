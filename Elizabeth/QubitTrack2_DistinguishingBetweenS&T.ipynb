{
 "cells": [
  {
   "cell_type": "markdown",
   "metadata": {},
   "source": [
    "$\\newcommand{\\ket}[1]{\\left|{#1}\\right\\rangle}\n",
    "\\newcommand{\\bra}[1]{\\left\\langle{#1}\\right|}$\n",
    "<body>\n",
    "    <div>\n",
    "        <tr><h1>\n",
    "        <b><font face=\"Verdana\">Distinguishing Between a Singlet and Triplet 0 State</font></b>\n",
    "        </h1></tr>\n",
    "        <p>\n",
    "            After we created our singlet and triplet 0 states, we calculated the expectation values of some of the operators. In the singlet state, we solved for $\\sigma_x$$\\tau_y$ to show that the two operators have no correlation. In the $T_1$ state, we solved for $\\sigma_x$$\\tau_x$, $\\sigma_y$$\\tau_y$, and $\\sigma_z$$\\tau_z$.<br> Using these expectation values we can determine whether a black box circuit is in a singlet state or triplet 0 state.\n",
    "        </p>\n",
    "    </div>\n",
    "</body>"
   ]
  },
  {
   "cell_type": "code",
   "execution_count": 1,
   "metadata": {},
   "outputs": [],
   "source": [
    "import numpy as np\n",
    "from qiskit import *\n",
    "from qiskit.visualization import plot_histogram, iplot_state_city\n",
    "from qiskit.quantum_info import Pauli, state_fidelity, basis_state, process_fidelity\n",
    "from math import pi"
   ]
  },
  {
   "cell_type": "code",
   "execution_count": 2,
   "metadata": {},
   "outputs": [],
   "source": [
    "## this function is used as a simple way to calculate the state vector of a circuit qc\n",
    "def stater(qc):\n",
    "    backend_sim = BasicAer.get_backend('statevector_simulator')\n",
    "    result = execute(qc, backend_sim).result()\n",
    "    state = result.get_statevector(qc)\n",
    "    return state"
   ]
  },
  {
   "cell_type": "code",
   "execution_count": 3,
   "metadata": {
    "scrolled": true
   },
   "outputs": [
    {
     "name": "stdout",
     "output_type": "stream",
     "text": [
      "State Vector 1:\n",
      "[ 0.        +0.j  0.70710678+0.j -0.70710678+0.j  0.        +0.j]\n",
      "State Vector 2:\n",
      "[0.        +0.j 0.70710678+0.j 0.70710678+0.j 0.        +0.j]\n"
     ]
    }
   ],
   "source": [
    "# singlet state\n",
    "a = QuantumRegister(1, 'a')\n",
    "b = QuantumRegister(1, 'b')\n",
    "s = QuantumCircuit(a,b)\n",
    "\n",
    "s.x(a)\n",
    "s.h(b)\n",
    "s.cx(b,a)\n",
    "s.z(b)\n",
    "print('State Vector 1:')\n",
    "print(stater(s))\n",
    "\n",
    "# triplet state\n",
    "p = QuantumRegister(1, 'p')\n",
    "q = QuantumRegister(1, 'q')\n",
    "t = QuantumCircuit(p,q)\n",
    "\n",
    "t.x(p)\n",
    "t.ry(pi/2,q)\n",
    "t.cx(q,p)\n",
    "print('State Vector 2:')\n",
    "print(stater(t))"
   ]
  },
  {
   "cell_type": "markdown",
   "metadata": {},
   "source": [
    "One characteristic of a singlet and triplet 0 state is that the only possible results are $\\ket{01}$ and $\\ket{10}$, so it will be impossible to distinguish between the two using a simulator alone. We must use the expectation values of the operators.\n",
    "<p>In particular, we can use $\\sigma_x$$\\tau_x$ or $\\sigma_y$$\\tau_y$ to differentiate between the two."
   ]
  },
  {
   "cell_type": "markdown",
   "metadata": {},
   "source": [
    "<p>By hand we can find the expectation values of $\\sigma_x$$\\tau_x$ for both a triplet and singlet state. Let's give it a try:</p>\n",
    "<p><center>$\\sigma_x$$\\tau_x$$\\ket{sing}$ = $\\sigma_x$$\\tau_x$($\\frac{1}{\\sqrt{2}}$)( $\\ket{du}$ - $\\ket{ud}$)<br>\n",
    "           = $\\tau_x$($\\frac{1}{\\sqrt{2}}$)( $\\ket{uu}$ - $\\ket{dd}$)<br>\n",
    "           = ($\\frac{1}{\\sqrt{2}}$)( $\\ket{ud}$ - $\\ket{du}$)\n",
    "</center> </p>          \n",
    "If we square the equation and multiply the complex conjugate by the original equation, it becomes:\n",
    "<p><center>= $\\frac{1}{2}$( $\\ket{ud}$ - $\\ket{du}$)( $\\ket{du}$ - $\\ket{ud}$)<br>\n",
    "           = $\\frac{1}{2}$(-1+(-1))<br>\n",
    "           = -1</center></p>\n",
    "So the expectation value of $\\sigma_x$$\\tau_x$$\\ket{sing}$ is -1.\n",
    "\n",
    "<p>For the triplet state:</p>\n",
    "<p><center>$\\sigma_x$$\\tau_x$$\\ket{T_1}$ = $\\sigma_x$$\\tau_x$($\\frac{1}{\\sqrt{2}}$)( $\\ket{ud}$ + $\\ket{du}$)<br>\n",
    "           = $\\tau_x$($\\frac{1}{\\sqrt{2}}$)( $\\ket{dd}$ + $\\ket{uu}$)<br>\n",
    "           = ($\\frac{1}{\\sqrt{2}}$)( $\\ket{du}$ + $\\ket{ud}$)\n",
    "</center> </p>          \n",
    "If we square the equation and multiply the complex conjugate by the original equation, it becomes:\n",
    "<p><center>= $\\frac{1}{2}$( $\\ket{ud}$ + $\\ket{du}$)( $\\ket{du}$ - $\\ket{ud}$)<br>\n",
    "           = $\\frac{1}{2}$(1+1)<br>\n",
    "           = 1</center></p>\n",
    "So the expectation value of $\\sigma_x$$\\tau_x$$\\ket{T_1}$ is 1.\n",
    "<p>If we were to do the same thing with $\\sigma_y$$\\tau_y$, we would get the same results of an expectation value of 1 and -1 respectively.</p>"
   ]
  },
  {
   "cell_type": "markdown",
   "metadata": {},
   "source": [
    "We can use Qiskit to model this difference in expectation value too."
   ]
  },
  {
   "cell_type": "code",
   "execution_count": 4,
   "metadata": {},
   "outputs": [
    {
     "name": "stdout",
     "output_type": "stream",
     "text": [
      "Expectation Value: (-1+0j)\n",
      "Expectation Value: (1+0j)\n"
     ]
    }
   ],
   "source": [
    "state1 = stater(s)\n",
    "circuit = QuantumCircuit(a,b)\n",
    "circuit.x(a)\n",
    "circuit.x(b)\n",
    "circuit1 = s + circuit\n",
    "\n",
    "state2 = stater(t)\n",
    "circuit = QuantumCircuit(p,q)\n",
    "circuit.x(p)\n",
    "circuit.x(q)\n",
    "circuit2 = t + circuit\n",
    "\n",
    "# We can find out if the circuit is in a singlet or triplet state in a single shot.\n",
    "result = execute(circuit1, backend = BasicAer.get_backend('statevector_simulator')).result()\n",
    "circuit1_state = result.get_statevector(circuit1)\n",
    "print('Expectation Value:' , (np.transpose(state1)@circuit1_state).round(1))\n",
    "result = execute(circuit2, backend = BasicAer.get_backend('statevector_simulator')).result()\n",
    "circuit2_state = result.get_statevector(circuit2)\n",
    "print('Expectation Value:' , (np.transpose(state2)@circuit2_state).round(1))"
   ]
  },
  {
   "cell_type": "markdown",
   "metadata": {},
   "source": [
    "We can write a function that will automatically tell us whether the circuit is in a singlet or triplet state."
   ]
  },
  {
   "cell_type": "code",
   "execution_count": 5,
   "metadata": {},
   "outputs": [],
   "source": [
    "def singOrTrip(qc):\n",
    "    result = execute(qc, backend = BasicAer.get_backend('statevector_simulator')).result()\n",
    "    qc_state = result.get_statevector(qc)\n",
    "    expect = (np.transpose(state1)@qc_state).round(1)\n",
    "    if expect == (-1+0j):\n",
    "        print('Singlet State')\n",
    "    else:\n",
    "        print('Triplet State')"
   ]
  },
  {
   "cell_type": "markdown",
   "metadata": {},
   "source": [
    "We find that circuit2 is indeed a triplet state and circuit1 is a singlet state as we coded."
   ]
  },
  {
   "cell_type": "code",
   "execution_count": 6,
   "metadata": {},
   "outputs": [
    {
     "name": "stdout",
     "output_type": "stream",
     "text": [
      "Triplet State\n",
      "Singlet State\n"
     ]
    }
   ],
   "source": [
    "singOrTrip(circuit2)\n",
    "singOrTrip(circuit1)"
   ]
  }
 ],
 "metadata": {
  "kernelspec": {
   "display_name": "Python 3",
   "language": "python",
   "name": "python3"
  },
  "language_info": {
   "codemirror_mode": {
    "name": "ipython",
    "version": 3
   },
   "file_extension": ".py",
   "mimetype": "text/x-python",
   "name": "python",
   "nbconvert_exporter": "python",
   "pygments_lexer": "ipython3",
   "version": "3.7.3"
  }
 },
 "nbformat": 4,
 "nbformat_minor": 2
}
