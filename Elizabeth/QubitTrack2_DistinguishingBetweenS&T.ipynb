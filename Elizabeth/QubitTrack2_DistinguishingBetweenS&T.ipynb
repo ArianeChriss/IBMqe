{
 "cells": [
  {
   "cell_type": "markdown",
   "metadata": {},
   "source": [
    "$\\newcommand{\\ket}[1]{\\left|{#1}\\right\\rangle}\n",
    "\\newcommand{\\bra}[1]{\\left\\langle{#1}\\right|}$\n",
    "<body>\n",
    "    <div>\n",
    "        <tr><h1>\n",
    "        <b><font face=\"Verdana\">Distinguishing Between a Singlet and Triplet 0 State</font></b>\n",
    "        </h1></tr>\n",
    "        <p>\n",
    "            Singlet and triplet 0 states are nearly identical in that they both always return 01 or 10. However, they do differ in that they are a 180° phase shift of each other. This means that the state vector of a singlet state is pointed in the opposite x direction as the state vector of a triplet state. We can use this knowledge to create a function that will tell us if a circuit is in a singlet or triplet 0 state.\n",
    "        </p>\n",
    "    </div>\n",
    "</body>"
   ]
  },
  {
   "cell_type": "code",
   "execution_count": 31,
   "metadata": {},
   "outputs": [],
   "source": [
    "import numpy as np\n",
    "from copy import *\n",
    "from qiskit import *\n",
    "from qiskit.visualization import plot_histogram, iplot_state_city, plot_bloch_vector\n",
    "from qiskit.quantum_info import Pauli, state_fidelity, basis_state, process_fidelity\n",
    "from math import pi"
   ]
  },
  {
   "cell_type": "code",
   "execution_count": 2,
   "metadata": {},
   "outputs": [],
   "source": [
    "## this function is used as a simple way to calculate the state vector of a circuit qc\n",
    "def stater(qc):\n",
    "    backend_sim = BasicAer.get_backend('statevector_simulator')\n",
    "    result = execute(qc, backend_sim).result()\n",
    "    state = result.get_statevector(qc)\n",
    "    return state"
   ]
  },
  {
   "cell_type": "markdown",
   "metadata": {},
   "source": [
    "<p>First we need to create known circuits that we can test our function on. The function stater(qc) is used to verify our circuits.</p>"
   ]
  },
  {
   "cell_type": "code",
   "execution_count": 25,
   "metadata": {
    "scrolled": true
   },
   "outputs": [
    {
     "name": "stdout",
     "output_type": "stream",
     "text": [
      "State Vector 1:\n",
      "[ 0.        +0.j  0.70710678+0.j -0.70710678+0.j  0.        +0.j]\n"
     ]
    },
    {
     "data": {
      "image/png": "[encoded data removed]",
      "text/plain": [
       "<Figure size 361.2x258.86 with 1 Axes>"
      ]
     },
     "execution_count": 25,
     "metadata": {},
     "output_type": "execute_result"
    }
   ],
   "source": [
    "# singlet state\n",
    "a = QuantumRegister(2)\n",
    "b = ClassicalRegister(2)\n",
    "s = QuantumCircuit(a,b)\n",
    "\n",
    "s.x(a[0])\n",
    "s.h(a[1])\n",
    "s.cx(a[1],a[0])\n",
    "s.z(a[1])\n",
    "print('State Vector 1:')\n",
    "print(stater(s))\n",
    "s.draw(output='mpl')"
   ]
  },
  {
   "cell_type": "code",
   "execution_count": 26,
   "metadata": {},
   "outputs": [
    {
     "name": "stdout",
     "output_type": "stream",
     "text": [
      "State Vector 2:\n",
      "[0.        +0.j 0.70710678+0.j 0.70710678+0.j 0.        +0.j]\n"
     ]
    },
    {
     "data": {
      "image/png": "[encoded data removed]",
      "text/plain": [
       "<Figure size 301x258.86 with 1 Axes>"
      ]
     },
     "execution_count": 26,
     "metadata": {},
     "output_type": "execute_result"
    }
   ],
   "source": [
    "#triplet1 state\n",
    "a = QuantumRegister(2)\n",
    "b = ClassicalRegister(2)\n",
    "t1 = QuantumCircuit(a,b)\n",
    "\n",
    "t1.x(a[0])\n",
    "t1.ry(pi/2,a[1])\n",
    "t1.cx(a[1],a[0])\n",
    "print('State Vector 2:')\n",
    "print(stater(t1))\n",
    "t1.draw(output='mpl')"
   ]
  },
  {
   "cell_type": "code",
   "execution_count": 27,
   "metadata": {},
   "outputs": [
    {
     "name": "stdout",
     "output_type": "stream",
     "text": [
      "State Vector 3:\n",
      "[0.70710678+0.j 0.        +0.j 0.        +0.j 0.70710678+0.j]\n"
     ]
    },
    {
     "data": {
      "image/png": "[encoded data removed]",
      "text/plain": [
       "<Figure size 301x258.86 with 1 Axes>"
      ]
     },
     "execution_count": 27,
     "metadata": {},
     "output_type": "execute_result"
    }
   ],
   "source": [
    "#triplet2 state\n",
    "a = QuantumRegister(2)\n",
    "b = ClassicalRegister(2)\n",
    "t2 = QuantumCircuit(a,b)\n",
    "\n",
    "t2.h(a[0])\n",
    "t2.cx(a[0],a[1])\n",
    "print('State Vector 3:')\n",
    "print(stater(t2))\n",
    "t2.draw(output='mpl')"
   ]
  },
  {
   "cell_type": "code",
   "execution_count": 28,
   "metadata": {},
   "outputs": [
    {
     "name": "stdout",
     "output_type": "stream",
     "text": [
      "State Vector 4:\n",
      "[ 0.70710678+0.j  0.        +0.j  0.        +0.j -0.70710678+0.j]\n"
     ]
    },
    {
     "data": {
      "image/png": "[encoded data removed]",
      "text/plain": [
       "<Figure size 361.2x258.86 with 1 Axes>"
      ]
     },
     "execution_count": 28,
     "metadata": {},
     "output_type": "execute_result"
    }
   ],
   "source": [
    "#triplet3 state\n",
    "a = QuantumRegister(2)\n",
    "b = ClassicalRegister(2)\n",
    "t3 = QuantumCircuit(a,b)\n",
    "\n",
    "t3.h(a[0])\n",
    "t3.cx(a[0],a[1])\n",
    "t3.z(a[1])\n",
    "print('State Vector 4:')\n",
    "print(stater(t3))\n",
    "t3.draw(output='mpl')"
   ]
  },
  {
   "cell_type": "markdown",
   "metadata": {},
   "source": [
    "<p>If the two vectors are in opposite phases of each other, if we turn the circuits to line up on the z axis, we should get different results when simulating a run of the circuit with shots. We can use a ry gate rotated pi/2 radians to see what happens on our singlet and triplet states.</p>"
   ]
  },
  {
   "cell_type": "code",
   "execution_count": 7,
   "metadata": {},
   "outputs": [
    {
     "data": {
      "text/plain": [
       "\"\\n#s.ry(pi/2,a)\\n#s.measure(a,b)\\n\\nshots = 100\\njob = execute(s, backend = Aer.get_backend('qasm_simulator'), shots = shots)\\ncounts = job.result().get_counts(s)\\nprint('Singlet:')\\nprint(counts)\\n\\n#t.ry(pi/2,p)\\n#t.measure(p,r)\\n\\nshots = 100\\njob = execute(t, backend = Aer.get_backend('qasm_simulator'), shots = shots)\\ncounts = job.result().get_counts(t)\\nprint('Triplet:')\\nprint(counts)\\n\""
      ]
     },
     "execution_count": 7,
     "metadata": {},
     "output_type": "execute_result"
    }
   ],
   "source": [
    "'''\n",
    "#s.ry(pi/2,a)\n",
    "#s.measure(a,b)\n",
    "\n",
    "shots = 100\n",
    "job = execute(s, backend = Aer.get_backend('qasm_simulator'), shots = shots)\n",
    "counts = job.result().get_counts(s)\n",
    "print('Singlet:')\n",
    "print(counts)\n",
    "\n",
    "#t.ry(pi/2,p)\n",
    "#t.measure(p,r)\n",
    "\n",
    "shots = 100\n",
    "job = execute(t, backend = Aer.get_backend('qasm_simulator'), shots = shots)\n",
    "counts = job.result().get_counts(t)\n",
    "print('Triplet:')\n",
    "print(counts)\n",
    "'''"
   ]
  },
  {
   "cell_type": "markdown",
   "metadata": {},
   "source": [
    "<p>We find that the singlet state will only return 10 or 01 while the triplet state will only return 00 or 11. Logically, if we think of the bloch sphere this makes sense.<br>\n",
    "This information can be used by testing what is returned when one shot is performed in our singOrTrip(qc) function.</p>"
   ]
  },
  {
   "cell_type": "code",
   "execution_count": 64,
   "metadata": {},
   "outputs": [],
   "source": [
    "def singOrTrip(circ):\n",
    "    circuit = deepcopy(circ)\n",
    "    circuit.rx(pi/2,0)\n",
    "    circuit.rx(pi/2,1)\n",
    "    circuit.ry(pi/2,0)\n",
    "    circuit.ry(pi/2,1)\n",
    "    circuit.measure(0,0)\n",
    "    circuit.measure(1,1)\n",
    "    qc = circuit\n",
    "    shots = 1000\n",
    "    job = execute(qc, backend = Aer.get_backend('qasm_simulator'), shots = shots)\n",
    "    counts = job.result().get_counts(qc)\n",
    "    if '00' in counts or '11' in counts:\n",
    "        print(counts)\n",
    "        print('Triplet State')\n",
    "    else:\n",
    "        print(counts)\n",
    "        print('Singlet State')"
   ]
  },
  {
   "cell_type": "markdown",
   "metadata": {},
   "source": [
    "We find that circuit t is indeed a triplet state and circuit s is a singlet state as we coded."
   ]
  },
  {
   "cell_type": "code",
   "execution_count": 65,
   "metadata": {},
   "outputs": [
    {
     "name": "stdout",
     "output_type": "stream",
     "text": [
      "{'00': 271, '01': 253, '11': 243, '10': 233}\n",
      "Triplet State\n",
      "{'00': 255, '01': 261, '11': 239, '10': 245}\n",
      "Triplet State\n",
      "{'00': 274, '01': 246, '11': 230, '10': 250}\n",
      "Triplet State\n",
      "{'00': 232, '01': 255, '11': 254, '10': 259}\n",
      "Triplet State\n"
     ]
    }
   ],
   "source": [
    "singOrTrip(t1)\n",
    "singOrTrip(t2)\n",
    "singOrTrip(t3)\n",
    "singOrTrip(s)"
   ]
  },
  {
   "cell_type": "code",
   "execution_count": null,
   "metadata": {},
   "outputs": [],
   "source": []
  }
 ],
 "metadata": {
  "kernelspec": {
   "display_name": "Python 3",
   "language": "python",
   "name": "python3"
  },
  "language_info": {
   "codemirror_mode": {
    "name": "ipython",
    "version": 3
   },
   "file_extension": ".py",
   "mimetype": "text/x-python",
   "name": "python",
   "nbconvert_exporter": "python",
   "pygments_lexer": "ipython3",
   "version": "3.7.3"
  }
 },
 "nbformat": 4,
 "nbformat_minor": 2
}
