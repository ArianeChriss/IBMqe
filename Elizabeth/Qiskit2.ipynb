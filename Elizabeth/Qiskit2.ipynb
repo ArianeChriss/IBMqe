{
 "cells": [
  {
   "cell_type": "code",
   "execution_count": 1,
   "metadata": {},
   "outputs": [],
   "source": [
    "import numpy as np\n",
    "from qiskit import(\n",
    "    QuantumCircuit,   #holds all Quantum operations\n",
    "    execute,          #executes circuit\n",
    "    Aer               #handles simluator backends\n",
    ")\n",
    "from qiskit.visualization import plot_histogram   #creates histogram"
   ]
  },
  {
   "cell_type": "code",
   "execution_count": 2,
   "metadata": {},
   "outputs": [
    {
     "name": "stdout",
     "output_type": "stream",
     "text": [
      "        \n",
      "q_0: |0>\n",
      "        \n",
      "q_1: |0>\n",
      "        \n",
      " c_0: 0 \n",
      "        \n",
      " c_1: 0 \n",
      "        \n"
     ]
    }
   ],
   "source": [
    "circuit = QuantumCircuit(2,2) #QuantumCircuit(#ofqbits,#ofcbits)\n",
    "print(circuit)\n",
    "#q are qubits, c are classic bits"
   ]
  },
  {
   "cell_type": "code",
   "execution_count": 3,
   "metadata": {},
   "outputs": [
    {
     "name": "stdout",
     "output_type": "stream",
     "text": [
      "        ┌───┐\n",
      "q_0: |0>┤ H ├\n",
      "        └───┘\n",
      "q_1: |0>─────\n",
      "             \n",
      " c_0: 0 ═════\n",
      "             \n",
      " c_1: 0 ═════\n",
      "             \n"
     ]
    }
   ],
   "source": [
    "circuit.h(0)\n",
    "print(circuit)\n",
    "#A Hadamard gate H is created on qubit 0\n",
    "#which puts it into a superposition state."
   ]
  },
  {
   "cell_type": "code",
   "execution_count": 4,
   "metadata": {},
   "outputs": [
    {
     "name": "stdout",
     "output_type": "stream",
     "text": [
      "        ┌───┐     \n",
      "q_0: |0>┤ H ├──■──\n",
      "        └───┘┌─┴─┐\n",
      "q_1: |0>─────┤ X ├\n",
      "             └───┘\n",
      " c_0: 0 ══════════\n",
      "                  \n",
      " c_1: 0 ══════════\n",
      "                  \n"
     ]
    }
   ],
   "source": [
    "circuit.cx(0,1)\n",
    "print(circuit)\n",
    "#A controlled-Not operation Cx is created on control qubit 0\n",
    "#and target qubit 1, putting the qubits in an entangled state."
   ]
  },
  {
   "cell_type": "code",
   "execution_count": 5,
   "metadata": {},
   "outputs": [
    {
     "name": "stdout",
     "output_type": "stream",
     "text": [
      "        ┌───┐           \n",
      "q_0: |0>┤ H ├──■────────\n",
      "        └───┘┌─┴─┐┌─┐┌─┐\n",
      "q_1: |0>─────┤ X ├┤M├┤M├\n",
      "             └───┘└╥┘└╥┘\n",
      " c_0: 0 ═══════════╩══╬═\n",
      "                      ║ \n",
      " c_1: 0 ══════════════╩═\n",
      "                        \n"
     ]
    }
   ],
   "source": [
    "circuit.measure([1,1],[0,1])\n",
    "print(circuit)"
   ]
  },
  {
   "cell_type": "code",
   "execution_count": 7,
   "metadata": {},
   "outputs": [
    {
     "data": {
      "text/plain": [
       "<qiskit.circuit.instructionset.InstructionSet at 0x1bff0a44ba8>"
      ]
     },
     "execution_count": 7,
     "metadata": {},
     "output_type": "execute_result"
    }
   ],
   "source": [
    "circuit.measure([0,0],[1,0])"
   ]
  },
  {
   "cell_type": "code",
   "execution_count": 8,
   "metadata": {},
   "outputs": [
    {
     "name": "stdout",
     "output_type": "stream",
     "text": [
      "        ┌───┐           ┌─┐     ┌─┐\n",
      "q_0: |0>┤ H ├──■────────┤M├─────┤M├\n",
      "        └───┘┌─┴─┐┌─┐┌─┐└╥┘┌───┐└╥┘\n",
      "q_1: |0>─────┤ X ├┤M├┤M├─╫─┤ H ├─╫─\n",
      "             └───┘└╥┘└╥┘ ║ └───┘ ║ \n",
      " c_0: 0 ═══════════╩══╬══╬═══════╩═\n",
      "                      ║  ║         \n",
      " c_1: 0 ══════════════╩══╩═════════\n",
      "                                   \n"
     ]
    }
   ],
   "source": [
    "circuit.h(1)\n",
    "print(circuit)"
   ]
  },
  {
   "cell_type": "code",
   "execution_count": 9,
   "metadata": {},
   "outputs": [
    {
     "data": {
      "text/plain": [
       "<qiskit.extensions.standard.cx.CnotGate at 0x1bfff87f710>"
      ]
     },
     "execution_count": 9,
     "metadata": {},
     "output_type": "execute_result"
    }
   ],
   "source": [
    "circuit.cx(1,0)"
   ]
  },
  {
   "cell_type": "code",
   "execution_count": 10,
   "metadata": {},
   "outputs": [
    {
     "name": "stdout",
     "output_type": "stream",
     "text": [
      "        ┌───┐           ┌─┐     ┌─┐┌───┐\n",
      "q_0: |0>┤ H ├──■────────┤M├─────┤M├┤ X ├\n",
      "        └───┘┌─┴─┐┌─┐┌─┐└╥┘┌───┐└╥┘└─┬─┘\n",
      "q_1: |0>─────┤ X ├┤M├┤M├─╫─┤ H ├─╫───■──\n",
      "             └───┘└╥┘└╥┘ ║ └───┘ ║      \n",
      " c_0: 0 ═══════════╩══╬══╬═══════╩══════\n",
      "                      ║  ║              \n",
      " c_1: 0 ══════════════╩══╩══════════════\n",
      "                                        \n"
     ]
    }
   ],
   "source": [
    "print(circuit)"
   ]
  },
  {
   "cell_type": "code",
   "execution_count": 11,
   "metadata": {},
   "outputs": [
    {
     "data": {
      "image/png": "[encoded data removed]",
      "text/plain": [
       "<Figure size 903x258.86 with 1 Axes>"
      ]
     },
     "execution_count": 11,
     "metadata": {},
     "output_type": "execute_result"
    }
   ],
   "source": [
    "circuit.draw(output='mpl')"
   ]
  },
  {
   "cell_type": "code",
   "execution_count": 12,
   "metadata": {},
   "outputs": [
    {
     "name": "stdout",
     "output_type": "stream",
     "text": [
      "qasm_simulator\n"
     ]
    }
   ],
   "source": [
    "simulator = Aer.get_backend('qasm_simulator')\n",
    "print(simulator)"
   ]
  },
  {
   "cell_type": "code",
   "execution_count": 13,
   "metadata": {},
   "outputs": [
    {
     "name": "stdout",
     "output_type": "stream",
     "text": [
      "\n",
      "Total count for 00 and 11 are: {'11': 518, '00': 482}\n"
     ]
    }
   ],
   "source": [
    "job = execute(circuit, simulator, shots=1000)\n",
    "result = job.result()\n",
    "counts = result.get_counts(circuit)\n",
    "print(\"\\nTotal count for 00 and 11 are:\",counts)"
   ]
  },
  {
   "cell_type": "code",
   "execution_count": 14,
   "metadata": {},
   "outputs": [
    {
     "data": {
      "image/png": "[encoded data removed]",
      "text/plain": [
       "<Figure size 504x360 with 1 Axes>"
      ]
     },
     "execution_count": 14,
     "metadata": {},
     "output_type": "execute_result"
    }
   ],
   "source": [
    "plot_histogram(counts)"
   ]
  },
  {
   "cell_type": "code",
   "execution_count": null,
   "metadata": {},
   "outputs": [],
   "source": []
  }
 ],
 "metadata": {
  "kernelspec": {
   "display_name": "Python 3",
   "language": "python",
   "name": "python3"
  },
  "language_info": {
   "codemirror_mode": {
    "name": "ipython",
    "version": 3
   },
   "file_extension": ".py",
   "mimetype": "text/x-python",
   "name": "python",
   "nbconvert_exporter": "python",
   "pygments_lexer": "ipython3",
   "version": "3.7.3"
  }
 },
 "nbformat": 4,
 "nbformat_minor": 2
}
